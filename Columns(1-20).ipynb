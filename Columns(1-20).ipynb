{
 "cells": [
  {
   "cell_type": "code",
   "execution_count": null,
   "id": "d5ab00e0",
   "metadata": {},
   "outputs": [],
   "source": [
    "#Column name - BOROUGH\n",
    "df.rename(columns={\"BOROUGH\": \"borough\"}, inplace=True)"
   ]
  },
  {
   "cell_type": "code",
   "execution_count": null,
   "id": "b5e29d8f",
   "metadata": {},
   "outputs": [],
   "source": [
    "#Column name - Bin #\n",
    "df.rename(columns={\"Bin #\": \"bin__\"}, inplace=True)"
   ]
  },
  {
   "cell_type": "code",
   "execution_count": null,
   "id": "08216fb0",
   "metadata": {},
   "outputs": [],
   "source": [
    "#Column name - House #\n",
    "df.rename(columns={\"House #\": \"house__\"}, inplace=True)\n",
    "df['house__'] = df['house__'].replace('', np.NaN)"
   ]
  },
  {
   "cell_type": "code",
   "execution_count": null,
   "id": "efc979d1",
   "metadata": {},
   "outputs": [],
   "source": [
    "#Column name - Street Name\n",
    "df.rename(columns={\"Street Name\": \"street_name\"}, inplace=True)\n",
    "df['street_name'] = df['street_name'].replace('', np.NaN)"
   ]
  },
  {
   "cell_type": "code",
   "execution_count": null,
   "id": "38e6442b",
   "metadata": {},
   "outputs": [],
   "source": [
    "#Column name - Job #\n",
    "df.rename(columns={\"Job #\": \"job__\"}, inplace=True)"
   ]
  },
  {
   "cell_type": "code",
   "execution_count": null,
   "id": "8a6dc3ed",
   "metadata": {},
   "outputs": [],
   "source": [
    "#Column name - Job doc. #\n",
    "df.rename(columns={\"Job doc. #\": \"job_doc___\"}, inplace=True)"
   ]
  },
  {
   "cell_type": "code",
   "execution_count": null,
   "id": "03d450d6",
   "metadata": {},
   "outputs": [],
   "source": [
    "#Column name - Job Type\n",
    "df.rename(columns={\"Job Type\": \"job_type\"}, inplace=True)"
   ]
  },
  {
   "cell_type": "code",
   "execution_count": null,
   "id": "d366eac1",
   "metadata": {},
   "outputs": [],
   "source": [
    "#Column name - Self_Cert\n",
    "df.rename(columns={\"Self_Cert\": \"self_cert\"}, inplace=True)\n",
    "df['self_cert'] = df['self_cert'].replace('R', 'Y').replace('J', np.NaN).replace('X', np.NaN)"
   ]
  },
  {
   "cell_type": "code",
   "execution_count": null,
   "id": "1bed4c85",
   "metadata": {},
   "outputs": [],
   "source": [
    "#Column name - Block\n",
    "df.rename(columns={\"Block\": \"block\"}, inplace=True)\n",
    "df['block'] = df['block'].replace('', np.NaN)"
   ]
  },
  {
   "cell_type": "code",
   "execution_count": null,
   "id": "b2b5fe23",
   "metadata": {},
   "outputs": [],
   "source": [
    "#Column name - Lot\n",
    "df.rename(columns={\"Lot\": \"lot\"}, inplace=True)\n",
    "df['lot'] = df['lot'].replace('', np.NaN)"
   ]
  },
  {
   "cell_type": "code",
   "execution_count": null,
   "id": "b855cc52",
   "metadata": {},
   "outputs": [],
   "source": [
    "#Column name - Community Board\n",
    "df.rename(columns={\"Community Board\": \"community_board\"}, inplace=True)\n",
    "df['community_board'] = df['community_board'].replace('', np.NaN)"
   ]
  },
  {
   "cell_type": "code",
   "execution_count": null,
   "id": "54246f85",
   "metadata": {},
   "outputs": [],
   "source": [
    "#Column name - Zip Code\n",
    "df.rename(columns={\"Zip Code\": \"zip_code\"}, inplace=True)\n",
    "df['zip_code'] = df['zip_code'].replace('', np.NaN)"
   ]
  },
  {
   "cell_type": "code",
   "execution_count": null,
   "id": "94c70af0",
   "metadata": {},
   "outputs": [],
   "source": [
    "#Column name - Bldg Type\n",
    "df.rename(columns={\"Bldg Type\": \"bldg_type\"}, inplace=True)\n",
    "df['bldg_type'] = df['bldg_type'].replace(np.NaN, 2).replace('', 2)"
   ]
  },
  {
   "cell_type": "code",
   "execution_count": null,
   "id": "e593b194",
   "metadata": {},
   "outputs": [],
   "source": [
    "#Column name - Residential\n",
    "df.rename(columns={\"Residential\": \"residential\"}, inplace=True)\n",
    "df['residential'] = df['residential'].replace('', np.NaN)"
   ]
  },
  {
   "cell_type": "code",
   "execution_count": null,
   "id": "a9195817",
   "metadata": {},
   "outputs": [],
   "source": [
    "#Column name - Special District 1\n",
    "df.rename(columns={\"Special District 1\": \"special_district_1\"}, inplace=True)\n",
    "df['special_district_1'] = df['special_district_1'].replace('', np.NaN)"
   ]
  },
  {
   "cell_type": "code",
   "execution_count": null,
   "id": "f87555c8",
   "metadata": {},
   "outputs": [],
   "source": [
    "#Column name - Special District 2\n",
    "df.rename(columns={\"Special District 2\": \"special_district_2\"}, inplace=True)\n",
    "df['special_district_2'] = df['special_district_2'].replace('', np.NaN)"
   ]
  },
  {
   "cell_type": "code",
   "execution_count": null,
   "id": "09e50e7c",
   "metadata": {},
   "outputs": [],
   "source": [
    "#Column name - Work Type\n",
    "df.rename(columns={\"Work Type\": \"work_type\"}, inplace=True)\n",
    "df['work_type'] = df['work_type'].replace('', 'OT')"
   ]
  },
  {
   "cell_type": "code",
   "execution_count": null,
   "id": "e25cb0b1",
   "metadata": {},
   "outputs": [],
   "source": [
    "#Column name - Permit Status\n",
    "df.rename(columns={\"Permit Status\": \"permit_status\"}, inplace=True)\n",
    "df['permit_status'] = df['permit_status'].replace('', 'IN PROCESS')"
   ]
  },
  {
   "cell_type": "code",
   "execution_count": null,
   "id": "b749ab2f",
   "metadata": {},
   "outputs": [],
   "source": [
    "#Column name - Filing Status\n",
    "df.rename(columns={\"Filing Status\": \"filing_status\"}, inplace=True)"
   ]
  },
  {
   "cell_type": "code",
   "execution_count": null,
   "id": "325cdbd8",
   "metadata": {},
   "outputs": [],
   "source": [
    "#Column name - Permit Type\n",
    "df.rename(columns={\"Permit Type\": \"permit_type\"}, inplace=True)\n",
    "df['permit_type'] = df['permit_type'].replace('', 'SG')"
   ]
  },
  {
   "cell_type": "code",
   "execution_count": null,
   "id": "f9c587e0",
   "metadata": {},
   "outputs": [],
   "source": []
  }
 ],
 "metadata": {
  "kernelspec": {
   "display_name": "Python 3 (ipykernel)",
   "language": "python",
   "name": "python3"
  },
  "language_info": {
   "codemirror_mode": {
    "name": "ipython",
    "version": 3
   },
   "file_extension": ".py",
   "mimetype": "text/x-python",
   "name": "python",
   "nbconvert_exporter": "python",
   "pygments_lexer": "ipython3",
   "version": "3.9.13"
  }
 },
 "nbformat": 4,
 "nbformat_minor": 5
}
