{
 "cells": [
  {
   "cell_type": "code",
   "execution_count": null,
   "id": "6534faa0",
   "metadata": {},
   "outputs": [],
   "source": [
    "#Column name - Permit Sequence #\n",
    "df.rename(columns={\"Permit Sequence #\": \"permit_sequence__\"}, inplace=True)"
   ]
  },
  {
   "cell_type": "code",
   "execution_count": null,
   "id": "0ad3997d",
   "metadata": {},
   "outputs": [],
   "source": [
    "#Column name - Permit Subtype\n",
    "df.rename(columns={\"Permit Subtype\": \"permit_subtype\"}, inplace=True)\n",
    "df['permit_subtype'] = df['permit_subtype'].replace('', np.NaN)"
   ]
  },
  {
   "cell_type": "code",
   "execution_count": null,
   "id": "eff76b29",
   "metadata": {},
   "outputs": [],
   "source": [
    "#Column name - Oil Gas\n",
    "df.rename(columns={\"Oil Gas\": \"oil_gas\"}, inplace=True)\n",
    "df['oil_gas'] = df['oil_gas'].replace('', 'blank')"
   ]
  },
  {
   "cell_type": "code",
   "execution_count": null,
   "id": "66c9f7b2",
   "metadata": {},
   "outputs": [],
   "source": [
    "#Column name - Site Fill\n",
    "df.rename(columns={\"Site Fill\": \"site_fill\"}, inplace=True)\n",
    "df['site_fill'] = df['site_fill'].replace('', 'blank')"
   ]
  },
  {
   "cell_type": "code",
   "execution_count": null,
   "id": "1bbd4143",
   "metadata": {},
   "outputs": [],
   "source": [
    "#Column name - Filing Date\n",
    "df.rename(columns={\"Filing Date\": \"filing_date\"}, inplace=True)\n",
    "df['filing_date'] = df['filing_date'].replace('', np.NaN)\n",
    "df['filing_date'] = pd.to_datetime(df['filing_date'], errors='coerce')\n",
    "df['filing_date'] = df['filing_date'].fillna(pd.NaT)"
   ]
  },
  {
   "cell_type": "code",
   "execution_count": null,
   "id": "cc889037",
   "metadata": {},
   "outputs": [],
   "source": [
    "#Column name - Issuance Date\n",
    "df.rename(columns={\"Issuance Date\": \"issuance_date\"}, inplace=True)\n",
    "df['issuance_date'] = df['issuance_date'].replace('', np.NaN)\n",
    "df['issuance_date'] = pd.to_datetime(df['issuance_date'], errors='coerce')\n",
    "df['issuance_date'] = df['issuance_date'].fillna(pd.NaT)"
   ]
  },
  {
   "cell_type": "code",
   "execution_count": null,
   "id": "187374e3",
   "metadata": {},
   "outputs": [],
   "source": [
    "#Column name - Expiration Date\n",
    "df.rename(columns={\"Expiration Date\": \"expiration_date\"}, inplace=True)\n",
    "df['expiration_date'] = df['expiration_date'].replace('', np.NaN)\n",
    "df['expiration_date'] = pd.to_datetime(df['expiration_date'], errors='coerce')\n",
    "df['expiration_date'] = df['expiration_date'].fillna(pd.NaT)"
   ]
  },
  {
   "cell_type": "code",
   "execution_count": null,
   "id": "d534702a",
   "metadata": {},
   "outputs": [],
   "source": [
    "#Column name - Job Start Date\n",
    "df.rename(columns={\"Job Start Date\": \"job_start_date\"}, inplace=True)\n",
    "df['job_start_date'] = df['job_start_date'].replace('', np.NaN)\n",
    "df['job_start_date'] = pd.to_datetime(df['job_start_date'], errors='coerce')\n",
    "df['job_start_date'] = df['job_start_date'].fillna(pd.NaT)"
   ]
  },
  {
   "cell_type": "code",
   "execution_count": null,
   "id": "999819b5",
   "metadata": {},
   "outputs": [],
   "source": [
    "#Column name - Permittee's First Name\n",
    "df.rename(columns={\"Permittee's First Name\": \"permittee_s_first_name\"}, inplace=True)\n",
    "df['permittee_s_first_name'] = df['permittee_s_first_name'].replace('', np.NaN)"
   ]
  },
  {
   "cell_type": "code",
   "execution_count": null,
   "id": "5b371f1c",
   "metadata": {},
   "outputs": [],
   "source": [
    "#Column name - Permittee's Last Name\n",
    "df.rename(columns={\"Permittee's Last Name\": \"permittee_s_last_name\"}, inplace=True)\n",
    "df['permittee_s_last_name'] = df['permittee_s_last_name'].replace('', np.NaN)"
   ]
  },
  {
   "cell_type": "code",
   "execution_count": null,
   "id": "a63b8249",
   "metadata": {},
   "outputs": [],
   "source": [
    "#Column name - Permittee's Business Name\n",
    "df.rename(columns={\"Permittee's Business Name\": \"permittee_s_business_name\"}, inplace=True)\n",
    "df['permittee_s_business_name'] = df['permittee_s_business_name'].replace('', np.NaN)"
   ]
  },
  {
   "cell_type": "code",
   "execution_count": null,
   "id": "071b0f07",
   "metadata": {},
   "outputs": [],
   "source": [
    "#Column name - Permittee's Phone #\n",
    "df.rename(columns={\"Permittee's Phone #\": \"permittee_s_phone__\"}, inplace=True)\n",
    "df['permittee_s_phone__'].fillna(0, inplace=True)"
   ]
  },
  {
   "cell_type": "code",
   "execution_count": null,
   "id": "ff220805",
   "metadata": {},
   "outputs": [],
   "source": [
    "#Column name - Permittee's License Type\n",
    "df.rename(columns={\"Permittee's License Type\": \"permittee_s_license_type\"}, inplace=True)\n",
    "df['permittee_s_license_type'] = df['permittee_s_license_type'].replace('', np.NaN)"
   ]
  },
  {
   "cell_type": "code",
   "execution_count": null,
   "id": "a93a60af",
   "metadata": {},
   "outputs": [],
   "source": [
    "#Column name - Permittee's License #\n",
    "df.rename(columns={\"Permittee's License #\": \"permittee_s_license__\"}, inplace=True)\n",
    "df['permittee_s_license__'].fillna(0, inplace=True)"
   ]
  },
  {
   "cell_type": "code",
   "execution_count": null,
   "id": "6f4736a8",
   "metadata": {},
   "outputs": [],
   "source": [
    "#Column name - Act as Superintendent\n",
    "df.rename(columns={\"Act as Superintendent\": \"act_as_superintendent\"}, inplace=True)\n",
    "df['site_fill'] = df['site_fill'].replace('', 'blank')"
   ]
  },
  {
   "cell_type": "code",
   "execution_count": null,
   "id": "ef494dd9",
   "metadata": {},
   "outputs": [],
   "source": [
    "#Column name - Permittee's Other Title\n",
    "df.rename(columns={\"Permittee's Other Title\": \"permittee_s_other_title\"}, inplace=True)\n",
    "df['permittee_s_other_title'] = df['permittee_s_other_title'].replace('', np.NaN)"
   ]
  },
  {
   "cell_type": "code",
   "execution_count": null,
   "id": "fbf4314d",
   "metadata": {},
   "outputs": [],
   "source": [
    "#Column name - HIC License\n",
    "df.rename(columns={\"HIC License\": \"hic_license\"}, inplace=True)\n",
    "df['hic_license'].fillna(0, inplace=True)"
   ]
  },
  {
   "cell_type": "code",
   "execution_count": null,
   "id": "9526286a",
   "metadata": {},
   "outputs": [],
   "source": [
    "#Column name - Site Safety Mgr's First Name\n",
    "df.rename(columns={\"Site Safety Mgr's First Name\": \"site_safety_mgr_s_first_name\"}, inplace=True)\n",
    "df['site_safety_mgr_s_first_name'] = df['site_safety_mgr_s_first_name'].replace('', np.NaN)"
   ]
  },
  {
   "cell_type": "code",
   "execution_count": null,
   "id": "a409d7f8",
   "metadata": {},
   "outputs": [],
   "source": [
    "#Column name - Site Safety Mgr's Last Name\n",
    "df.rename(columns={\"Site Safety Mgr's Last Name\": \"site_safety_mgr_s_last_name\"}, inplace=True)\n",
    "df['site_safety_mgr_s_last_name'] = df['site_safety_mgr_s_last_name'].replace('', np.NaN)"
   ]
  },
  {
   "cell_type": "code",
   "execution_count": null,
   "id": "7ab3740a",
   "metadata": {},
   "outputs": [],
   "source": [
    "#Column name - Site Safety Mgr Business Name\n",
    "df.rename(columns={\"Site Safety Mgr Business Name\": \"site_safety_mgr_business_name\"}, inplace=True)\n",
    "df['site_safety_mgr_business_name'] = df['site_safety_mgr_business_name'].replace('', np.NaN)"
   ]
  }
 ],
 "metadata": {
  "kernelspec": {
   "display_name": "Python 3 (ipykernel)",
   "language": "python",
   "name": "python3"
  },
  "language_info": {
   "codemirror_mode": {
    "name": "ipython",
    "version": 3
   },
   "file_extension": ".py",
   "mimetype": "text/x-python",
   "name": "python",
   "nbconvert_exporter": "python",
   "pygments_lexer": "ipython3",
   "version": "3.9.13"
  }
 },
 "nbformat": 4,
 "nbformat_minor": 5
}
