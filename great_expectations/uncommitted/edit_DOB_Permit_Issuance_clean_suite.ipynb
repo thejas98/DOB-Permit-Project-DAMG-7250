{
 "cells": [
  {
   "cell_type": "markdown",
   "id": "09c524f3",
   "metadata": {},
   "source": [
    "# Edit Your Expectation Suite\n",
    "Use this notebook to recreate and modify your expectation suite:\n",
    "\n",
    "**Expectation Suite Name**: `DOB_Permit_Issuance_clean_suite`\n"
   ]
  },
  {
   "cell_type": "code",
   "execution_count": 1,
   "id": "7cb1025c",
   "metadata": {},
   "outputs": [
    {
     "name": "stdout",
     "output_type": "stream",
     "text": [
      "2023-04-21T01:45:38-0400 - INFO - Great Expectations logging enabled at 20 level by JupyterUX module.\n",
      "2023-04-21T01:45:38-0400 - INFO - FileDataContext loading fluent config\n",
      "2023-04-21T01:45:38-0400 - INFO - Loading 'datasources' ->\n",
      "[]\n",
      "2023-04-21T01:45:38-0400 - INFO - Loaded 'datasources' ->\n",
      "[]\n",
      "Loaded ExpectationSuite \"DOB_Permit_Issuance_clean_suite\" containing 0 expectations.\n"
     ]
    },
    {
     "data": {
      "application/vnd.jupyter.widget-view+json": {
       "model_id": "51d0bb83a4ea4ea7b73584a05fb767a3",
       "version_major": 2,
       "version_minor": 0
      },
      "text/plain": [
       "Calculating Metrics:   0%|          | 0/2 [00:00<?, ?it/s]"
      ]
     },
     "metadata": {},
     "output_type": "display_data"
    },
    {
     "name": "stdout",
     "output_type": "stream",
     "text": [
      "Columns: \"borough\", \"bin__\", \"house__\", \"street_name\", \"job__\", \"job_doc___\", \"job_type\", \"self_cert\", \"block\", \"lot\", \"community_board\", \"zip_code\", \"bldg_type\", \"residential\", \"special_district_1\", \"special_district_2\", \"work_type\", \"permit_status\", \"filing_status\", \"permit_type\", \"permit_sequence__\", \"permit_subtype\", \"oil_gas\", \"site_fill\", \"filing_date\", \"issuance_date\", \"expiration_date\", \"job_start_date\", \"permittee_s_first_name\", \"permittee_s_last_name\", \"permittee_s_business_name\", \"permittee_s_phone__\", \"permittee_s_license_type\", \"permittee_s_license__\", \"act_as_superintendent\", \"permittee_s_other_title\", \"hic_license\", \"site_safety_mgr_s_first_name\", \"site_safety_mgr_s_last_name\", \"site_safety_mgr_business_name\", \"superintendent_first___last_name\", \"superintendent_business_name\", \"owner_s_business_type\", \"non_profit\", \"owner_s_business_name\", \"owner_s_first_name\", \"owner_s_last_name\", \"owner_s_house__\", \"owner_s_house_street_name\", \"city\", \"state\", \"owner_s_zip_code\", \"owner_s_phone__\", \"dobrundate\", \"permit_si_no\", \"gis_latitude\", \"gis_longitude\", \"gis_council_district\", \"gis_census_tract\", \"gis_nta_name\", \"house_id\", \"location_id\", \"owner_id\".\n"
     ]
    },
    {
     "data": {
      "application/vnd.jupyter.widget-view+json": {
       "model_id": "e2d32897165e4a0f8a087199191f507a",
       "version_major": 2,
       "version_minor": 0
      },
      "text/plain": [
       "Calculating Metrics:   0%|          | 0/1 [00:00<?, ?it/s]"
      ]
     },
     "metadata": {},
     "output_type": "display_data"
    },
    {
     "data": {
      "text/html": [
       "<div>\n",
       "<style scoped>\n",
       "    .dataframe tbody tr th:only-of-type {\n",
       "        vertical-align: middle;\n",
       "    }\n",
       "\n",
       "    .dataframe tbody tr th {\n",
       "        vertical-align: top;\n",
       "    }\n",
       "\n",
       "    .dataframe thead th {\n",
       "        text-align: right;\n",
       "    }\n",
       "</style>\n",
       "<table border=\"1\" class=\"dataframe\">\n",
       "  <thead>\n",
       "    <tr style=\"text-align: right;\">\n",
       "      <th></th>\n",
       "      <th>borough</th>\n",
       "      <th>bin__</th>\n",
       "      <th>house__</th>\n",
       "      <th>street_name</th>\n",
       "      <th>job__</th>\n",
       "      <th>job_doc___</th>\n",
       "      <th>job_type</th>\n",
       "      <th>self_cert</th>\n",
       "      <th>block</th>\n",
       "      <th>lot</th>\n",
       "      <th>community_board</th>\n",
       "      <th>zip_code</th>\n",
       "      <th>bldg_type</th>\n",
       "      <th>residential</th>\n",
       "      <th>special_district_1</th>\n",
       "      <th>special_district_2</th>\n",
       "      <th>work_type</th>\n",
       "      <th>permit_status</th>\n",
       "      <th>filing_status</th>\n",
       "      <th>permit_type</th>\n",
       "      <th>permit_sequence__</th>\n",
       "      <th>permit_subtype</th>\n",
       "      <th>oil_gas</th>\n",
       "      <th>site_fill</th>\n",
       "      <th>filing_date</th>\n",
       "      <th>issuance_date</th>\n",
       "      <th>expiration_date</th>\n",
       "      <th>job_start_date</th>\n",
       "      <th>permittee_s_first_name</th>\n",
       "      <th>permittee_s_last_name</th>\n",
       "      <th>permittee_s_business_name</th>\n",
       "      <th>permittee_s_phone__</th>\n",
       "      <th>permittee_s_license_type</th>\n",
       "      <th>permittee_s_license__</th>\n",
       "      <th>act_as_superintendent</th>\n",
       "      <th>permittee_s_other_title</th>\n",
       "      <th>hic_license</th>\n",
       "      <th>site_safety_mgr_s_first_name</th>\n",
       "      <th>site_safety_mgr_s_last_name</th>\n",
       "      <th>site_safety_mgr_business_name</th>\n",
       "      <th>superintendent_first___last_name</th>\n",
       "      <th>superintendent_business_name</th>\n",
       "      <th>owner_s_business_type</th>\n",
       "      <th>non_profit</th>\n",
       "      <th>owner_s_business_name</th>\n",
       "      <th>owner_s_first_name</th>\n",
       "      <th>owner_s_last_name</th>\n",
       "      <th>owner_s_house__</th>\n",
       "      <th>owner_s_house_street_name</th>\n",
       "      <th>city</th>\n",
       "      <th>state</th>\n",
       "      <th>owner_s_zip_code</th>\n",
       "      <th>owner_s_phone__</th>\n",
       "      <th>dobrundate</th>\n",
       "      <th>permit_si_no</th>\n",
       "      <th>gis_latitude</th>\n",
       "      <th>gis_longitude</th>\n",
       "      <th>gis_council_district</th>\n",
       "      <th>gis_census_tract</th>\n",
       "      <th>gis_nta_name</th>\n",
       "      <th>house_id</th>\n",
       "      <th>location_id</th>\n",
       "      <th>owner_id</th>\n",
       "    </tr>\n",
       "  </thead>\n",
       "  <tbody>\n",
       "    <tr>\n",
       "      <th>0</th>\n",
       "      <td>MANHATTAN</td>\n",
       "      <td>1088749</td>\n",
       "      <td>1</td>\n",
       "      <td>MADISON AVE</td>\n",
       "      <td>141008987</td>\n",
       "      <td>1</td>\n",
       "      <td>A3</td>\n",
       "      <td>Y</td>\n",
       "      <td>853</td>\n",
       "      <td>2</td>\n",
       "      <td>105</td>\n",
       "      <td>10010.0</td>\n",
       "      <td>2.0</td>\n",
       "      <td>N</td>\n",
       "      <td>Not Available</td>\n",
       "      <td>Not Available</td>\n",
       "      <td>EQ</td>\n",
       "      <td>ISSUED</td>\n",
       "      <td>INITIAL</td>\n",
       "      <td>EQ</td>\n",
       "      <td>1</td>\n",
       "      <td>OT</td>\n",
       "      <td>N</td>\n",
       "      <td>Not Available</td>\n",
       "      <td>05/10/2022</td>\n",
       "      <td>05/10/2022</td>\n",
       "      <td>05/10/2023</td>\n",
       "      <td>05/10/2022</td>\n",
       "      <td>FRANKIE</td>\n",
       "      <td>COLLETTA</td>\n",
       "      <td>John Doe Inc</td>\n",
       "      <td>2122441050</td>\n",
       "      <td>GC</td>\n",
       "      <td>621634</td>\n",
       "      <td>N</td>\n",
       "      <td>Not Available</td>\n",
       "      <td>Not Available</td>\n",
       "      <td>Not Available</td>\n",
       "      <td>Not Available</td>\n",
       "      <td>Not Available</td>\n",
       "      <td>John Doe</td>\n",
       "      <td>John Doe Inc</td>\n",
       "      <td>CORPORATION</td>\n",
       "      <td>N</td>\n",
       "      <td>John Doe Inc</td>\n",
       "      <td>JOHN</td>\n",
       "      <td>KRUSH</td>\n",
       "      <td>-1</td>\n",
       "      <td>Missing street name</td>\n",
       "      <td>Not Available</td>\n",
       "      <td>Not Available</td>\n",
       "      <td>0</td>\n",
       "      <td>2125942700</td>\n",
       "      <td>2022-05-11</td>\n",
       "      <td>3905851</td>\n",
       "      <td>40.740909</td>\n",
       "      <td>-73.987947</td>\n",
       "      <td>2.0</td>\n",
       "      <td>56.0</td>\n",
       "      <td>Hudson Yards-Chelsea-Flatiron-Union Square</td>\n",
       "      <td>1_40.740909_-73.987947</td>\n",
       "      <td>10010.0-00853-00002</td>\n",
       "      <td>JOHN-KRUSH-2125942700</td>\n",
       "    </tr>\n",
       "    <tr>\n",
       "      <th>1</th>\n",
       "      <td>STATEN ISLAND</td>\n",
       "      <td>5076937</td>\n",
       "      <td>87</td>\n",
       "      <td>BOYLAN STREET</td>\n",
       "      <td>540218539</td>\n",
       "      <td>1</td>\n",
       "      <td>A2</td>\n",
       "      <td>Y</td>\n",
       "      <td>5687</td>\n",
       "      <td>66</td>\n",
       "      <td>503</td>\n",
       "      <td>10312.0</td>\n",
       "      <td>1.0</td>\n",
       "      <td>YES</td>\n",
       "      <td>SRD</td>\n",
       "      <td>Not Available</td>\n",
       "      <td>OT</td>\n",
       "      <td>ISSUED</td>\n",
       "      <td>INITIAL</td>\n",
       "      <td>EW</td>\n",
       "      <td>1</td>\n",
       "      <td>OT</td>\n",
       "      <td>N</td>\n",
       "      <td>NOT APPLICABLE</td>\n",
       "      <td>05/10/2022</td>\n",
       "      <td>05/10/2022</td>\n",
       "      <td>10/01/2022</td>\n",
       "      <td>05/12/2022</td>\n",
       "      <td>PAUL</td>\n",
       "      <td>JOYCE</td>\n",
       "      <td>John Doe Inc</td>\n",
       "      <td>8055407643</td>\n",
       "      <td>GC</td>\n",
       "      <td>613329</td>\n",
       "      <td>N</td>\n",
       "      <td>Not Available</td>\n",
       "      <td>Not Available</td>\n",
       "      <td>Not Available</td>\n",
       "      <td>Not Available</td>\n",
       "      <td>Not Available</td>\n",
       "      <td>John Doe</td>\n",
       "      <td>John Doe Inc</td>\n",
       "      <td>INDIVIDUAL</td>\n",
       "      <td>N</td>\n",
       "      <td>John Doe Inc</td>\n",
       "      <td>STEVEN</td>\n",
       "      <td>MONTANA</td>\n",
       "      <td>-1</td>\n",
       "      <td>Missing street name</td>\n",
       "      <td>Not Available</td>\n",
       "      <td>Not Available</td>\n",
       "      <td>0</td>\n",
       "      <td>9174201655</td>\n",
       "      <td>2022-05-11</td>\n",
       "      <td>3905852</td>\n",
       "      <td>40.563654</td>\n",
       "      <td>-74.179584</td>\n",
       "      <td>51.0</td>\n",
       "      <td>17008.0</td>\n",
       "      <td>Arden Heights</td>\n",
       "      <td>87_40.563654_-74.179584</td>\n",
       "      <td>10312.0-05687-00066</td>\n",
       "      <td>STEVEN-MONTANA-9174201655</td>\n",
       "    </tr>\n",
       "    <tr>\n",
       "      <th>2</th>\n",
       "      <td>STATEN ISLAND</td>\n",
       "      <td>5001506</td>\n",
       "      <td>217</td>\n",
       "      <td>LAFAYETTE AVENUE</td>\n",
       "      <td>540218575</td>\n",
       "      <td>1</td>\n",
       "      <td>A2</td>\n",
       "      <td>Y</td>\n",
       "      <td>64</td>\n",
       "      <td>22</td>\n",
       "      <td>501</td>\n",
       "      <td>10301.0</td>\n",
       "      <td>1.0</td>\n",
       "      <td>YES</td>\n",
       "      <td>HS</td>\n",
       "      <td>Not Available</td>\n",
       "      <td>OT</td>\n",
       "      <td>ISSUED</td>\n",
       "      <td>INITIAL</td>\n",
       "      <td>EW</td>\n",
       "      <td>1</td>\n",
       "      <td>OT</td>\n",
       "      <td>N</td>\n",
       "      <td>NOT APPLICABLE</td>\n",
       "      <td>05/10/2022</td>\n",
       "      <td>05/10/2022</td>\n",
       "      <td>10/01/2022</td>\n",
       "      <td>05/15/2022</td>\n",
       "      <td>PAUL</td>\n",
       "      <td>JOYCE</td>\n",
       "      <td>John Doe Inc</td>\n",
       "      <td>8055407643</td>\n",
       "      <td>GC</td>\n",
       "      <td>613329</td>\n",
       "      <td>N</td>\n",
       "      <td>Not Available</td>\n",
       "      <td>Not Available</td>\n",
       "      <td>Not Available</td>\n",
       "      <td>Not Available</td>\n",
       "      <td>Not Available</td>\n",
       "      <td>John Doe</td>\n",
       "      <td>John Doe Inc</td>\n",
       "      <td>INDIVIDUAL</td>\n",
       "      <td>N</td>\n",
       "      <td>John Doe Inc</td>\n",
       "      <td>SANTO</td>\n",
       "      <td>CEBALLOS</td>\n",
       "      <td>-1</td>\n",
       "      <td>Missing street name</td>\n",
       "      <td>Not Available</td>\n",
       "      <td>Not Available</td>\n",
       "      <td>0</td>\n",
       "      <td>7188125847</td>\n",
       "      <td>2022-05-11</td>\n",
       "      <td>3905853</td>\n",
       "      <td>40.639633</td>\n",
       "      <td>-74.094169</td>\n",
       "      <td>49.0</td>\n",
       "      <td>81.0</td>\n",
       "      <td>West New Brighton-New Brighton-St. George</td>\n",
       "      <td>217_40.639633_-74.094169</td>\n",
       "      <td>10301.0-00064-00022</td>\n",
       "      <td>SANTO-CEBALLOS-7188125847</td>\n",
       "    </tr>\n",
       "    <tr>\n",
       "      <th>3</th>\n",
       "      <td>STATEN ISLAND</td>\n",
       "      <td>5067021</td>\n",
       "      <td>170</td>\n",
       "      <td>OAKDALE STREET</td>\n",
       "      <td>540218600</td>\n",
       "      <td>1</td>\n",
       "      <td>A2</td>\n",
       "      <td>Y</td>\n",
       "      <td>5260</td>\n",
       "      <td>1</td>\n",
       "      <td>503</td>\n",
       "      <td>10308.0</td>\n",
       "      <td>1.0</td>\n",
       "      <td>YES</td>\n",
       "      <td>SRD</td>\n",
       "      <td>Not Available</td>\n",
       "      <td>OT</td>\n",
       "      <td>ISSUED</td>\n",
       "      <td>INITIAL</td>\n",
       "      <td>EW</td>\n",
       "      <td>1</td>\n",
       "      <td>OT</td>\n",
       "      <td>N</td>\n",
       "      <td>NOT APPLICABLE</td>\n",
       "      <td>05/10/2022</td>\n",
       "      <td>05/10/2022</td>\n",
       "      <td>10/01/2022</td>\n",
       "      <td>05/15/2022</td>\n",
       "      <td>PAUL</td>\n",
       "      <td>JOYCE</td>\n",
       "      <td>John Doe Inc</td>\n",
       "      <td>8055407643</td>\n",
       "      <td>GC</td>\n",
       "      <td>613329</td>\n",
       "      <td>N</td>\n",
       "      <td>Not Available</td>\n",
       "      <td>Not Available</td>\n",
       "      <td>Not Available</td>\n",
       "      <td>Not Available</td>\n",
       "      <td>Not Available</td>\n",
       "      <td>John Doe</td>\n",
       "      <td>John Doe Inc</td>\n",
       "      <td>INDIVIDUAL</td>\n",
       "      <td>N</td>\n",
       "      <td>John Doe Inc</td>\n",
       "      <td>JOANNA</td>\n",
       "      <td>GIANGRANDE</td>\n",
       "      <td>-1</td>\n",
       "      <td>Missing street name</td>\n",
       "      <td>Not Available</td>\n",
       "      <td>Not Available</td>\n",
       "      <td>0</td>\n",
       "      <td>3478575846</td>\n",
       "      <td>2022-05-11</td>\n",
       "      <td>3905854</td>\n",
       "      <td>40.544597</td>\n",
       "      <td>-74.157153</td>\n",
       "      <td>51.0</td>\n",
       "      <td>15601.0</td>\n",
       "      <td>Great Kills</td>\n",
       "      <td>170_40.544597_-74.157153</td>\n",
       "      <td>10308.0-05260-00001</td>\n",
       "      <td>JOANNA-GIANGRANDE-3478575846</td>\n",
       "    </tr>\n",
       "    <tr>\n",
       "      <th>4</th>\n",
       "      <td>STATEN ISLAND</td>\n",
       "      <td>5058036</td>\n",
       "      <td>273</td>\n",
       "      <td>10 STREET</td>\n",
       "      <td>540218628</td>\n",
       "      <td>1</td>\n",
       "      <td>A2</td>\n",
       "      <td>Y</td>\n",
       "      <td>4242</td>\n",
       "      <td>45</td>\n",
       "      <td>502</td>\n",
       "      <td>10306.0</td>\n",
       "      <td>1.0</td>\n",
       "      <td>YES</td>\n",
       "      <td>Not Available</td>\n",
       "      <td>Not Available</td>\n",
       "      <td>OT</td>\n",
       "      <td>ISSUED</td>\n",
       "      <td>INITIAL</td>\n",
       "      <td>EW</td>\n",
       "      <td>1</td>\n",
       "      <td>OT</td>\n",
       "      <td>N</td>\n",
       "      <td>NOT APPLICABLE</td>\n",
       "      <td>05/10/2022</td>\n",
       "      <td>05/10/2022</td>\n",
       "      <td>11/15/2022</td>\n",
       "      <td>05/24/2022</td>\n",
       "      <td>ALEXANDER</td>\n",
       "      <td>YACKERY</td>\n",
       "      <td>John Doe Inc</td>\n",
       "      <td>7183982259</td>\n",
       "      <td>GC</td>\n",
       "      <td>615255</td>\n",
       "      <td>N</td>\n",
       "      <td>Not Available</td>\n",
       "      <td>Not Available</td>\n",
       "      <td>Not Available</td>\n",
       "      <td>Not Available</td>\n",
       "      <td>Not Available</td>\n",
       "      <td>John Doe</td>\n",
       "      <td>John Doe Inc</td>\n",
       "      <td>INDIVIDUAL</td>\n",
       "      <td>N</td>\n",
       "      <td>John Doe Inc</td>\n",
       "      <td>ARKADLY</td>\n",
       "      <td>FRIDMAN</td>\n",
       "      <td>-1</td>\n",
       "      <td>Missing street name</td>\n",
       "      <td>Not Available</td>\n",
       "      <td>Not Available</td>\n",
       "      <td>0</td>\n",
       "      <td>7186195891</td>\n",
       "      <td>2022-05-11</td>\n",
       "      <td>3905855</td>\n",
       "      <td>40.566798</td>\n",
       "      <td>-74.119726</td>\n",
       "      <td>50.0</td>\n",
       "      <td>134.0</td>\n",
       "      <td>New Dorp-Midland Beach</td>\n",
       "      <td>273_40.566798_-74.119726</td>\n",
       "      <td>10306.0-04242-00045</td>\n",
       "      <td>ARKADLY-FRIDMAN-7186195891</td>\n",
       "    </tr>\n",
       "  </tbody>\n",
       "</table>\n",
       "</div>"
      ],
      "text/plain": [
       "         borough    bin__ house__       street_name      job__  job_doc___  \\\n",
       "0      MANHATTAN  1088749       1       MADISON AVE  141008987           1   \n",
       "1  STATEN ISLAND  5076937      87     BOYLAN STREET  540218539           1   \n",
       "2  STATEN ISLAND  5001506     217  LAFAYETTE AVENUE  540218575           1   \n",
       "3  STATEN ISLAND  5067021     170    OAKDALE STREET  540218600           1   \n",
       "4  STATEN ISLAND  5058036     273         10 STREET  540218628           1   \n",
       "\n",
       "  job_type self_cert block lot community_board  zip_code  bldg_type  \\\n",
       "0       A3         Y   853   2             105   10010.0        2.0   \n",
       "1       A2         Y  5687  66             503   10312.0        1.0   \n",
       "2       A2         Y    64  22             501   10301.0        1.0   \n",
       "3       A2         Y  5260   1             503   10308.0        1.0   \n",
       "4       A2         Y  4242  45             502   10306.0        1.0   \n",
       "\n",
       "  residential special_district_1 special_district_2 work_type permit_status  \\\n",
       "0           N      Not Available      Not Available        EQ        ISSUED   \n",
       "1         YES                SRD      Not Available        OT        ISSUED   \n",
       "2         YES                 HS      Not Available        OT        ISSUED   \n",
       "3         YES                SRD      Not Available        OT        ISSUED   \n",
       "4         YES      Not Available      Not Available        OT        ISSUED   \n",
       "\n",
       "  filing_status permit_type  permit_sequence__ permit_subtype oil_gas  \\\n",
       "0       INITIAL          EQ                  1             OT       N   \n",
       "1       INITIAL          EW                  1             OT       N   \n",
       "2       INITIAL          EW                  1             OT       N   \n",
       "3       INITIAL          EW                  1             OT       N   \n",
       "4       INITIAL          EW                  1             OT       N   \n",
       "\n",
       "        site_fill filing_date issuance_date expiration_date job_start_date  \\\n",
       "0   Not Available  05/10/2022    05/10/2022      05/10/2023     05/10/2022   \n",
       "1  NOT APPLICABLE  05/10/2022    05/10/2022      10/01/2022     05/12/2022   \n",
       "2  NOT APPLICABLE  05/10/2022    05/10/2022      10/01/2022     05/15/2022   \n",
       "3  NOT APPLICABLE  05/10/2022    05/10/2022      10/01/2022     05/15/2022   \n",
       "4  NOT APPLICABLE  05/10/2022    05/10/2022      11/15/2022     05/24/2022   \n",
       "\n",
       "  permittee_s_first_name permittee_s_last_name permittee_s_business_name  \\\n",
       "0                FRANKIE              COLLETTA              John Doe Inc   \n",
       "1                   PAUL                 JOYCE              John Doe Inc   \n",
       "2                   PAUL                 JOYCE              John Doe Inc   \n",
       "3                   PAUL                 JOYCE              John Doe Inc   \n",
       "4              ALEXANDER               YACKERY              John Doe Inc   \n",
       "\n",
       "  permittee_s_phone__ permittee_s_license_type  permittee_s_license__  \\\n",
       "0          2122441050                       GC                 621634   \n",
       "1          8055407643                       GC                 613329   \n",
       "2          8055407643                       GC                 613329   \n",
       "3          8055407643                       GC                 613329   \n",
       "4          7183982259                       GC                 615255   \n",
       "\n",
       "  act_as_superintendent permittee_s_other_title    hic_license  \\\n",
       "0                     N           Not Available  Not Available   \n",
       "1                     N           Not Available  Not Available   \n",
       "2                     N           Not Available  Not Available   \n",
       "3                     N           Not Available  Not Available   \n",
       "4                     N           Not Available  Not Available   \n",
       "\n",
       "  site_safety_mgr_s_first_name site_safety_mgr_s_last_name  \\\n",
       "0                Not Available               Not Available   \n",
       "1                Not Available               Not Available   \n",
       "2                Not Available               Not Available   \n",
       "3                Not Available               Not Available   \n",
       "4                Not Available               Not Available   \n",
       "\n",
       "  site_safety_mgr_business_name superintendent_first___last_name  \\\n",
       "0                 Not Available                         John Doe   \n",
       "1                 Not Available                         John Doe   \n",
       "2                 Not Available                         John Doe   \n",
       "3                 Not Available                         John Doe   \n",
       "4                 Not Available                         John Doe   \n",
       "\n",
       "  superintendent_business_name owner_s_business_type non_profit  \\\n",
       "0                 John Doe Inc           CORPORATION          N   \n",
       "1                 John Doe Inc            INDIVIDUAL          N   \n",
       "2                 John Doe Inc            INDIVIDUAL          N   \n",
       "3                 John Doe Inc            INDIVIDUAL          N   \n",
       "4                 John Doe Inc            INDIVIDUAL          N   \n",
       "\n",
       "  owner_s_business_name owner_s_first_name owner_s_last_name owner_s_house__  \\\n",
       "0          John Doe Inc               JOHN             KRUSH              -1   \n",
       "1          John Doe Inc             STEVEN           MONTANA              -1   \n",
       "2          John Doe Inc              SANTO          CEBALLOS              -1   \n",
       "3          John Doe Inc             JOANNA        GIANGRANDE              -1   \n",
       "4          John Doe Inc            ARKADLY           FRIDMAN              -1   \n",
       "\n",
       "  owner_s_house_street_name           city          state owner_s_zip_code  \\\n",
       "0       Missing street name  Not Available  Not Available                0   \n",
       "1       Missing street name  Not Available  Not Available                0   \n",
       "2       Missing street name  Not Available  Not Available                0   \n",
       "3       Missing street name  Not Available  Not Available                0   \n",
       "4       Missing street name  Not Available  Not Available                0   \n",
       "\n",
       "  owner_s_phone__  dobrundate  permit_si_no  gis_latitude  gis_longitude  \\\n",
       "0      2125942700  2022-05-11       3905851     40.740909     -73.987947   \n",
       "1      9174201655  2022-05-11       3905852     40.563654     -74.179584   \n",
       "2      7188125847  2022-05-11       3905853     40.639633     -74.094169   \n",
       "3      3478575846  2022-05-11       3905854     40.544597     -74.157153   \n",
       "4      7186195891  2022-05-11       3905855     40.566798     -74.119726   \n",
       "\n",
       "  gis_council_district gis_census_tract  \\\n",
       "0                  2.0             56.0   \n",
       "1                 51.0          17008.0   \n",
       "2                 49.0             81.0   \n",
       "3                 51.0          15601.0   \n",
       "4                 50.0            134.0   \n",
       "\n",
       "                                 gis_nta_name                  house_id  \\\n",
       "0  Hudson Yards-Chelsea-Flatiron-Union Square    1_40.740909_-73.987947   \n",
       "1                               Arden Heights   87_40.563654_-74.179584   \n",
       "2   West New Brighton-New Brighton-St. George  217_40.639633_-74.094169   \n",
       "3                                 Great Kills  170_40.544597_-74.157153   \n",
       "4                      New Dorp-Midland Beach  273_40.566798_-74.119726   \n",
       "\n",
       "           location_id                      owner_id  \n",
       "0  10010.0-00853-00002         JOHN-KRUSH-2125942700  \n",
       "1  10312.0-05687-00066     STEVEN-MONTANA-9174201655  \n",
       "2  10301.0-00064-00022     SANTO-CEBALLOS-7188125847  \n",
       "3  10308.0-05260-00001  JOANNA-GIANGRANDE-3478575846  \n",
       "4  10306.0-04242-00045    ARKADLY-FRIDMAN-7186195891  "
      ]
     },
     "execution_count": 1,
     "metadata": {},
     "output_type": "execute_result"
    }
   ],
   "source": [
    "import datetime\n",
    "\n",
    "import pandas as pd\n",
    "\n",
    "import great_expectations as gx\n",
    "import great_expectations.jupyter_ux\n",
    "from great_expectations.core.batch import BatchRequest\n",
    "from great_expectations.checkpoint import SimpleCheckpoint\n",
    "from great_expectations.exceptions import DataContextError\n",
    "\n",
    "context = gx.get_context()\n",
    "\n",
    "# Note that if you modify this batch request, you may save the new version as a .json file\n",
    "#  to pass in later via the --batch-request option\n",
    "batch_request = {'datasource_name': 'small_clean', 'data_connector_name': 'default_inferred_data_connector_name', 'data_asset_name': 'DOB_Permit_Issuance_clean.csv', 'limit': 1000}\n",
    "\n",
    "\n",
    "# Feel free to change the name of your suite here. Renaming this will not remove the other one.\n",
    "expectation_suite_name = \"DOB_Permit_Issuance_clean_suite\"\n",
    "try:\n",
    "    suite = context.get_expectation_suite(expectation_suite_name=expectation_suite_name)\n",
    "    print(f'Loaded ExpectationSuite \"{suite.expectation_suite_name}\" containing {len(suite.expectations)} expectations.')\n",
    "except DataContextError:\n",
    "    suite = context.add_expectation_suite(expectation_suite_name=expectation_suite_name)\n",
    "    print(f'Created ExpectationSuite \"{suite.expectation_suite_name}\".')\n",
    "\n",
    "\n",
    "validator = context.get_validator(\n",
    "    batch_request=BatchRequest(**batch_request),\n",
    "    expectation_suite_name=expectation_suite_name\n",
    ")\n",
    "column_names = [f'\"{column_name}\"' for column_name in validator.columns()]\n",
    "print(f\"Columns: {', '.join(column_names)}.\")\n",
    "validator.head(n_rows=5, fetch_all=False)"
   ]
  },
  {
   "cell_type": "markdown",
   "id": "e85c42ea",
   "metadata": {},
   "source": [
    "## Create & Edit Expectations\n",
    "\n",
    "\n",
    "Add expectations by calling specific expectation methods on the `validator` object. They all begin with `.expect_` which makes autocompleting easy using tab.\n",
    "\n",
    "Because you selected interactive mode, you are now creating or editing an Expectation Suite with validator feedback from the sample batch of data that you specified (see `batch_request`).\n",
    "\n",
    "Note that if you select manual mode you may still create or edit an Expectation Suite directly, without feedback from the `validator`. See our documentation for more info and examples: [How to create a new Expectation Suite without a sample batch](https://docs.greatexpectations.io/docs/guides/expectations/how_to_create_and_edit_expectations_based_on_domain_knowledge_without_inspecting_data_directly).\n",
    "\n",
    "\n",
    "\n",
    "You can see all the available expectations in the **[expectation gallery](https://greatexpectations.io/expectations)**."
   ]
  },
  {
   "cell_type": "markdown",
   "id": "96131441",
   "metadata": {},
   "source": [
    "### Table Expectation(s)"
   ]
  },
  {
   "cell_type": "markdown",
   "id": "a4135984",
   "metadata": {},
   "source": [
    "No table level expectations are in this suite. Feel free to add some here.\n",
    "\n",
    "They all begin with `validator.expect_table_...`.\n"
   ]
  },
  {
   "cell_type": "markdown",
   "id": "b0a7d5bc",
   "metadata": {},
   "source": [
    "### Column Expectation(s)"
   ]
  },
  {
   "cell_type": "markdown",
   "id": "eb787847",
   "metadata": {},
   "source": [
    "No column level expectations are in this suite. Feel free to add some here.\n",
    "\n",
    "They all begin with`validator.expect_column_...`.\n"
   ]
  },
  {
   "cell_type": "code",
   "execution_count": 2,
   "id": "35456b20",
   "metadata": {},
   "outputs": [
    {
     "data": {
      "application/vnd.jupyter.widget-view+json": {
       "model_id": "636fa1f0799345f49f0eb04be41e9b2e",
       "version_major": 2,
       "version_minor": 0
      },
      "text/plain": [
       "Calculating Metrics:   0%|          | 0/6 [00:00<?, ?it/s]"
      ]
     },
     "metadata": {},
     "output_type": "display_data"
    },
    {
     "data": {
      "text/plain": [
       "{\n",
       "  \"meta\": {},\n",
       "  \"result\": {\n",
       "    \"element_count\": 3931021,\n",
       "    \"unexpected_count\": 0,\n",
       "    \"unexpected_percent\": 0.0,\n",
       "    \"partial_unexpected_list\": []\n",
       "  },\n",
       "  \"success\": true,\n",
       "  \"exception_info\": {\n",
       "    \"raised_exception\": false,\n",
       "    \"exception_traceback\": null,\n",
       "    \"exception_message\": null\n",
       "  }\n",
       "}"
      ]
     },
     "execution_count": 2,
     "metadata": {},
     "output_type": "execute_result"
    }
   ],
   "source": [
    "validator.expect_column_values_to_not_be_null(column='bin__')\n"
   ]
  },
  {
   "cell_type": "code",
   "execution_count": 3,
   "id": "f3b3268d",
   "metadata": {},
   "outputs": [
    {
     "data": {
      "application/vnd.jupyter.widget-view+json": {
       "model_id": "0e85004965f745e6ae116e836cd6c463",
       "version_major": 2,
       "version_minor": 0
      },
      "text/plain": [
       "Calculating Metrics:   0%|          | 0/6 [00:00<?, ?it/s]"
      ]
     },
     "metadata": {},
     "output_type": "display_data"
    },
    {
     "data": {
      "application/vnd.jupyter.widget-view+json": {
       "model_id": "19000e82febf41e6bd1dd9c53f988e8e",
       "version_major": 2,
       "version_minor": 0
      },
      "text/plain": [
       "Calculating Metrics:   0%|          | 0/6 [00:00<?, ?it/s]"
      ]
     },
     "metadata": {},
     "output_type": "display_data"
    },
    {
     "data": {
      "application/vnd.jupyter.widget-view+json": {
       "model_id": "af9bc60dc4914d4abcd462edd35c30fb",
       "version_major": 2,
       "version_minor": 0
      },
      "text/plain": [
       "Calculating Metrics:   0%|          | 0/6 [00:00<?, ?it/s]"
      ]
     },
     "metadata": {},
     "output_type": "display_data"
    },
    {
     "data": {
      "application/vnd.jupyter.widget-view+json": {
       "model_id": "cceb054cd1a847ad99a7ffcbe7dee127",
       "version_major": 2,
       "version_minor": 0
      },
      "text/plain": [
       "Calculating Metrics:   0%|          | 0/6 [00:00<?, ?it/s]"
      ]
     },
     "metadata": {},
     "output_type": "display_data"
    },
    {
     "data": {
      "application/vnd.jupyter.widget-view+json": {
       "model_id": "978ff9e201b14fcf81a3fcafc4ebfe6d",
       "version_major": 2,
       "version_minor": 0
      },
      "text/plain": [
       "Calculating Metrics:   0%|          | 0/6 [00:00<?, ?it/s]"
      ]
     },
     "metadata": {},
     "output_type": "display_data"
    },
    {
     "data": {
      "application/vnd.jupyter.widget-view+json": {
       "model_id": "67200aaf0be24b7b8e618339e328625c",
       "version_major": 2,
       "version_minor": 0
      },
      "text/plain": [
       "Calculating Metrics:   0%|          | 0/6 [00:00<?, ?it/s]"
      ]
     },
     "metadata": {},
     "output_type": "display_data"
    },
    {
     "data": {
      "application/vnd.jupyter.widget-view+json": {
       "model_id": "11eafb0fd72c44ea9d8174a5572a6bcf",
       "version_major": 2,
       "version_minor": 0
      },
      "text/plain": [
       "Calculating Metrics:   0%|          | 0/6 [00:00<?, ?it/s]"
      ]
     },
     "metadata": {},
     "output_type": "display_data"
    },
    {
     "data": {
      "application/vnd.jupyter.widget-view+json": {
       "model_id": "822c427f95ef4b49a8cd336c60ccdef1",
       "version_major": 2,
       "version_minor": 0
      },
      "text/plain": [
       "Calculating Metrics:   0%|          | 0/6 [00:00<?, ?it/s]"
      ]
     },
     "metadata": {},
     "output_type": "display_data"
    },
    {
     "data": {
      "application/vnd.jupyter.widget-view+json": {
       "model_id": "dab0a5169934400ea98edd08a70eb451",
       "version_major": 2,
       "version_minor": 0
      },
      "text/plain": [
       "Calculating Metrics:   0%|          | 0/6 [00:00<?, ?it/s]"
      ]
     },
     "metadata": {},
     "output_type": "display_data"
    },
    {
     "data": {
      "application/vnd.jupyter.widget-view+json": {
       "model_id": "d28a2825e4194d6ea9bdcc96221560b0",
       "version_major": 2,
       "version_minor": 0
      },
      "text/plain": [
       "Calculating Metrics:   0%|          | 0/6 [00:00<?, ?it/s]"
      ]
     },
     "metadata": {},
     "output_type": "display_data"
    },
    {
     "data": {
      "application/vnd.jupyter.widget-view+json": {
       "model_id": "5894fb1fe8724a7595fbbfd5cbca9908",
       "version_major": 2,
       "version_minor": 0
      },
      "text/plain": [
       "Calculating Metrics:   0%|          | 0/6 [00:00<?, ?it/s]"
      ]
     },
     "metadata": {},
     "output_type": "display_data"
    },
    {
     "data": {
      "application/vnd.jupyter.widget-view+json": {
       "model_id": "a1ab3baa59bd4f938aba99400f4eb63e",
       "version_major": 2,
       "version_minor": 0
      },
      "text/plain": [
       "Calculating Metrics:   0%|          | 0/6 [00:00<?, ?it/s]"
      ]
     },
     "metadata": {},
     "output_type": "display_data"
    },
    {
     "data": {
      "application/vnd.jupyter.widget-view+json": {
       "model_id": "4b54e79bb35145d6aac2990f0808cda2",
       "version_major": 2,
       "version_minor": 0
      },
      "text/plain": [
       "Calculating Metrics:   0%|          | 0/6 [00:00<?, ?it/s]"
      ]
     },
     "metadata": {},
     "output_type": "display_data"
    },
    {
     "data": {
      "application/vnd.jupyter.widget-view+json": {
       "model_id": "fed9bc708b67450cb47cebf089806315",
       "version_major": 2,
       "version_minor": 0
      },
      "text/plain": [
       "Calculating Metrics:   0%|          | 0/6 [00:00<?, ?it/s]"
      ]
     },
     "metadata": {},
     "output_type": "display_data"
    },
    {
     "data": {
      "application/vnd.jupyter.widget-view+json": {
       "model_id": "c17536ac574f495699706cceca5c32e9",
       "version_major": 2,
       "version_minor": 0
      },
      "text/plain": [
       "Calculating Metrics:   0%|          | 0/6 [00:00<?, ?it/s]"
      ]
     },
     "metadata": {},
     "output_type": "display_data"
    },
    {
     "data": {
      "application/vnd.jupyter.widget-view+json": {
       "model_id": "c773ad1bb85c4bca996e1257ad780960",
       "version_major": 2,
       "version_minor": 0
      },
      "text/plain": [
       "Calculating Metrics:   0%|          | 0/6 [00:00<?, ?it/s]"
      ]
     },
     "metadata": {},
     "output_type": "display_data"
    },
    {
     "data": {
      "application/vnd.jupyter.widget-view+json": {
       "model_id": "6ca473d479d14145afaaa9adc9056024",
       "version_major": 2,
       "version_minor": 0
      },
      "text/plain": [
       "Calculating Metrics:   0%|          | 0/6 [00:00<?, ?it/s]"
      ]
     },
     "metadata": {},
     "output_type": "display_data"
    },
    {
     "data": {
      "application/vnd.jupyter.widget-view+json": {
       "model_id": "c6eda08a8b89422fb06f790a740ca72f",
       "version_major": 2,
       "version_minor": 0
      },
      "text/plain": [
       "Calculating Metrics:   0%|          | 0/6 [00:00<?, ?it/s]"
      ]
     },
     "metadata": {},
     "output_type": "display_data"
    },
    {
     "data": {
      "application/vnd.jupyter.widget-view+json": {
       "model_id": "d87e2bda5cef492d93349fc0b3c208ea",
       "version_major": 2,
       "version_minor": 0
      },
      "text/plain": [
       "Calculating Metrics:   0%|          | 0/6 [00:00<?, ?it/s]"
      ]
     },
     "metadata": {},
     "output_type": "display_data"
    },
    {
     "data": {
      "application/vnd.jupyter.widget-view+json": {
       "model_id": "22964231c04f410cb2f9c58fb5a1ed59",
       "version_major": 2,
       "version_minor": 0
      },
      "text/plain": [
       "Calculating Metrics:   0%|          | 0/6 [00:00<?, ?it/s]"
      ]
     },
     "metadata": {},
     "output_type": "display_data"
    },
    {
     "data": {
      "application/vnd.jupyter.widget-view+json": {
       "model_id": "2eceda0ca3eb4db4b7a42ac49491ae32",
       "version_major": 2,
       "version_minor": 0
      },
      "text/plain": [
       "Calculating Metrics:   0%|          | 0/6 [00:00<?, ?it/s]"
      ]
     },
     "metadata": {},
     "output_type": "display_data"
    },
    {
     "data": {
      "application/vnd.jupyter.widget-view+json": {
       "model_id": "eb142048e25b499691a81b83170f89fe",
       "version_major": 2,
       "version_minor": 0
      },
      "text/plain": [
       "Calculating Metrics:   0%|          | 0/6 [00:00<?, ?it/s]"
      ]
     },
     "metadata": {},
     "output_type": "display_data"
    },
    {
     "data": {
      "application/vnd.jupyter.widget-view+json": {
       "model_id": "ae3d191d19ec4eb0a280a0daf2bc4a0d",
       "version_major": 2,
       "version_minor": 0
      },
      "text/plain": [
       "Calculating Metrics:   0%|          | 0/6 [00:00<?, ?it/s]"
      ]
     },
     "metadata": {},
     "output_type": "display_data"
    },
    {
     "data": {
      "application/vnd.jupyter.widget-view+json": {
       "model_id": "bb509d61258f4fdd989274e7ba646050",
       "version_major": 2,
       "version_minor": 0
      },
      "text/plain": [
       "Calculating Metrics:   0%|          | 0/6 [00:00<?, ?it/s]"
      ]
     },
     "metadata": {},
     "output_type": "display_data"
    },
    {
     "data": {
      "application/vnd.jupyter.widget-view+json": {
       "model_id": "2645da01fbfe48d1976f9b96f17576b7",
       "version_major": 2,
       "version_minor": 0
      },
      "text/plain": [
       "Calculating Metrics:   0%|          | 0/6 [00:00<?, ?it/s]"
      ]
     },
     "metadata": {},
     "output_type": "display_data"
    },
    {
     "data": {
      "application/vnd.jupyter.widget-view+json": {
       "model_id": "ac37df34d3c446d8b116a204ad9cc95c",
       "version_major": 2,
       "version_minor": 0
      },
      "text/plain": [
       "Calculating Metrics:   0%|          | 0/6 [00:00<?, ?it/s]"
      ]
     },
     "metadata": {},
     "output_type": "display_data"
    },
    {
     "data": {
      "application/vnd.jupyter.widget-view+json": {
       "model_id": "0a4367d746c74060b2479c0826dd362e",
       "version_major": 2,
       "version_minor": 0
      },
      "text/plain": [
       "Calculating Metrics:   0%|          | 0/6 [00:00<?, ?it/s]"
      ]
     },
     "metadata": {},
     "output_type": "display_data"
    },
    {
     "data": {
      "application/vnd.jupyter.widget-view+json": {
       "model_id": "2f3ebee151a2481bab31d0d0ffcd06e8",
       "version_major": 2,
       "version_minor": 0
      },
      "text/plain": [
       "Calculating Metrics:   0%|          | 0/6 [00:00<?, ?it/s]"
      ]
     },
     "metadata": {},
     "output_type": "display_data"
    },
    {
     "data": {
      "application/vnd.jupyter.widget-view+json": {
       "model_id": "eca6206121704b90b11483b93f960e17",
       "version_major": 2,
       "version_minor": 0
      },
      "text/plain": [
       "Calculating Metrics:   0%|          | 0/6 [00:00<?, ?it/s]"
      ]
     },
     "metadata": {},
     "output_type": "display_data"
    },
    {
     "data": {
      "application/vnd.jupyter.widget-view+json": {
       "model_id": "10951ed9952749c488d16d91d46028e7",
       "version_major": 2,
       "version_minor": 0
      },
      "text/plain": [
       "Calculating Metrics:   0%|          | 0/6 [00:00<?, ?it/s]"
      ]
     },
     "metadata": {},
     "output_type": "display_data"
    },
    {
     "data": {
      "application/vnd.jupyter.widget-view+json": {
       "model_id": "8654ca16fe2342a1900b2d5f6be9903b",
       "version_major": 2,
       "version_minor": 0
      },
      "text/plain": [
       "Calculating Metrics:   0%|          | 0/6 [00:00<?, ?it/s]"
      ]
     },
     "metadata": {},
     "output_type": "display_data"
    },
    {
     "data": {
      "application/vnd.jupyter.widget-view+json": {
       "model_id": "ae49ee0d002d457da3fe9494fd7123e4",
       "version_major": 2,
       "version_minor": 0
      },
      "text/plain": [
       "Calculating Metrics:   0%|          | 0/6 [00:00<?, ?it/s]"
      ]
     },
     "metadata": {},
     "output_type": "display_data"
    },
    {
     "data": {
      "application/vnd.jupyter.widget-view+json": {
       "model_id": "794982ee015e46a8984f748bd7694303",
       "version_major": 2,
       "version_minor": 0
      },
      "text/plain": [
       "Calculating Metrics:   0%|          | 0/6 [00:00<?, ?it/s]"
      ]
     },
     "metadata": {},
     "output_type": "display_data"
    },
    {
     "data": {
      "application/vnd.jupyter.widget-view+json": {
       "model_id": "04c8c2046bd1469da2ed954bd0ee0ff1",
       "version_major": 2,
       "version_minor": 0
      },
      "text/plain": [
       "Calculating Metrics:   0%|          | 0/6 [00:00<?, ?it/s]"
      ]
     },
     "metadata": {},
     "output_type": "display_data"
    },
    {
     "data": {
      "application/vnd.jupyter.widget-view+json": {
       "model_id": "a447029e46a04bfbb5c83a2966bf18b9",
       "version_major": 2,
       "version_minor": 0
      },
      "text/plain": [
       "Calculating Metrics:   0%|          | 0/6 [00:00<?, ?it/s]"
      ]
     },
     "metadata": {},
     "output_type": "display_data"
    },
    {
     "data": {
      "application/vnd.jupyter.widget-view+json": {
       "model_id": "1beeec062e8d4136a69b7b9608a51849",
       "version_major": 2,
       "version_minor": 0
      },
      "text/plain": [
       "Calculating Metrics:   0%|          | 0/6 [00:00<?, ?it/s]"
      ]
     },
     "metadata": {},
     "output_type": "display_data"
    },
    {
     "data": {
      "application/vnd.jupyter.widget-view+json": {
       "model_id": "b33334259737443fa5b545e85309ace8",
       "version_major": 2,
       "version_minor": 0
      },
      "text/plain": [
       "Calculating Metrics:   0%|          | 0/6 [00:00<?, ?it/s]"
      ]
     },
     "metadata": {},
     "output_type": "display_data"
    },
    {
     "data": {
      "application/vnd.jupyter.widget-view+json": {
       "model_id": "21626cfc6129413e80c6a67de4decfd4",
       "version_major": 2,
       "version_minor": 0
      },
      "text/plain": [
       "Calculating Metrics:   0%|          | 0/6 [00:00<?, ?it/s]"
      ]
     },
     "metadata": {},
     "output_type": "display_data"
    },
    {
     "data": {
      "application/vnd.jupyter.widget-view+json": {
       "model_id": "51b6d8166280471e853a18bc4c2bc863",
       "version_major": 2,
       "version_minor": 0
      },
      "text/plain": [
       "Calculating Metrics:   0%|          | 0/6 [00:00<?, ?it/s]"
      ]
     },
     "metadata": {},
     "output_type": "display_data"
    },
    {
     "data": {
      "application/vnd.jupyter.widget-view+json": {
       "model_id": "e26d549cedca4d4088a420062e629a52",
       "version_major": 2,
       "version_minor": 0
      },
      "text/plain": [
       "Calculating Metrics:   0%|          | 0/6 [00:00<?, ?it/s]"
      ]
     },
     "metadata": {},
     "output_type": "display_data"
    },
    {
     "data": {
      "application/vnd.jupyter.widget-view+json": {
       "model_id": "0636c6f5b26b414599a99e2d414d2867",
       "version_major": 2,
       "version_minor": 0
      },
      "text/plain": [
       "Calculating Metrics:   0%|          | 0/6 [00:00<?, ?it/s]"
      ]
     },
     "metadata": {},
     "output_type": "display_data"
    },
    {
     "data": {
      "application/vnd.jupyter.widget-view+json": {
       "model_id": "a6d95201d0cc44b9b8103f877676ecca",
       "version_major": 2,
       "version_minor": 0
      },
      "text/plain": [
       "Calculating Metrics:   0%|          | 0/6 [00:00<?, ?it/s]"
      ]
     },
     "metadata": {},
     "output_type": "display_data"
    },
    {
     "data": {
      "application/vnd.jupyter.widget-view+json": {
       "model_id": "4a68f601c98c4060a50044d65f46512e",
       "version_major": 2,
       "version_minor": 0
      },
      "text/plain": [
       "Calculating Metrics:   0%|          | 0/6 [00:00<?, ?it/s]"
      ]
     },
     "metadata": {},
     "output_type": "display_data"
    },
    {
     "data": {
      "application/vnd.jupyter.widget-view+json": {
       "model_id": "6533675ed4f44f3a92e2ddcfcbff95a6",
       "version_major": 2,
       "version_minor": 0
      },
      "text/plain": [
       "Calculating Metrics:   0%|          | 0/6 [00:00<?, ?it/s]"
      ]
     },
     "metadata": {},
     "output_type": "display_data"
    },
    {
     "data": {
      "application/vnd.jupyter.widget-view+json": {
       "model_id": "58dd466f274f44548ac091af5d10a82b",
       "version_major": 2,
       "version_minor": 0
      },
      "text/plain": [
       "Calculating Metrics:   0%|          | 0/6 [00:00<?, ?it/s]"
      ]
     },
     "metadata": {},
     "output_type": "display_data"
    },
    {
     "data": {
      "application/vnd.jupyter.widget-view+json": {
       "model_id": "c70859bdf6df47fba05544f64854a3b8",
       "version_major": 2,
       "version_minor": 0
      },
      "text/plain": [
       "Calculating Metrics:   0%|          | 0/6 [00:00<?, ?it/s]"
      ]
     },
     "metadata": {},
     "output_type": "display_data"
    },
    {
     "data": {
      "application/vnd.jupyter.widget-view+json": {
       "model_id": "e5c252e521f443d5998570a3a5e44a0d",
       "version_major": 2,
       "version_minor": 0
      },
      "text/plain": [
       "Calculating Metrics:   0%|          | 0/6 [00:00<?, ?it/s]"
      ]
     },
     "metadata": {},
     "output_type": "display_data"
    },
    {
     "data": {
      "application/vnd.jupyter.widget-view+json": {
       "model_id": "c67ee73fa6994b43a5c8d962d9c72da4",
       "version_major": 2,
       "version_minor": 0
      },
      "text/plain": [
       "Calculating Metrics:   0%|          | 0/6 [00:00<?, ?it/s]"
      ]
     },
     "metadata": {},
     "output_type": "display_data"
    },
    {
     "data": {
      "application/vnd.jupyter.widget-view+json": {
       "model_id": "09f12a58857440f19eb478bea3c167f3",
       "version_major": 2,
       "version_minor": 0
      },
      "text/plain": [
       "Calculating Metrics:   0%|          | 0/6 [00:00<?, ?it/s]"
      ]
     },
     "metadata": {},
     "output_type": "display_data"
    }
   ],
   "source": [
    "validator.expect_column_values_to_not_be_null(column='borough')\n",
    "validator.expect_column_values_to_not_be_null(column='house__')\n",
    "validator.expect_column_values_to_not_be_null(column='street_name')\n",
    "validator.expect_column_values_to_not_be_null(column='job__')\n",
    "validator.expect_column_values_to_not_be_null(column='job_doc___')\n",
    "validator.expect_column_values_to_not_be_null(column='job_type')\n",
    "validator.expect_column_values_to_not_be_null(column='self_cert')\n",
    "validator.expect_column_values_to_not_be_null(column='block')\n",
    "validator.expect_column_values_to_not_be_null(column='lot')\n",
    "validator.expect_column_values_to_not_be_null(column='community_board')\n",
    "validator.expect_column_values_to_not_be_null(column='zip_code')\n",
    "validator.expect_column_values_to_not_be_null(column='bldg_type')\n",
    "validator.expect_column_values_to_not_be_null(column='residential')\n",
    "validator.expect_column_values_to_not_be_null(column='special_district_1')\n",
    "validator.expect_column_values_to_not_be_null(column='special_district_2')\n",
    "validator.expect_column_values_to_not_be_null(column='work_type')\n",
    "validator.expect_column_values_to_not_be_null(column='permit_status')\n",
    "validator.expect_column_values_to_not_be_null(column='filing_status')\n",
    "validator.expect_column_values_to_not_be_null(column='permit_type')\n",
    "validator.expect_column_values_to_not_be_null(column='permit_sequence__')\n",
    "validator.expect_column_values_to_not_be_null(column='permit_subtype')\n",
    "validator.expect_column_values_to_not_be_null(column='oil_gas')\n",
    "validator.expect_column_values_to_not_be_null(column='site_fill')\n",
    "validator.expect_column_values_to_not_be_null(column='issuance_date')\n",
    "validator.expect_column_values_to_not_be_null(column='expiration_date')\n",
    "validator.expect_column_values_to_not_be_null(column='job_start_date')\n",
    "\n",
    "\n",
    "\n",
    "\n",
    "validator.expect_column_values_to_be_in_set(column='borough', value_set=['MANHATTAN', 'BRONX', 'QUEENS', 'BROOKLYN', 'STATEN ISLAND'])\n",
    "\n",
    "validator.expect_column_values_to_be_in_set(column='job_type', value_set=['A1', 'A2', 'A3','NB','DM','SG'])\n",
    "\n",
    "validator.expect_column_values_to_be_in_set(column='filing_status', value_set=[\"INITIAL\",\"RENEWAL\"])\n",
    "\n",
    "validator.expect_column_values_to_be_in_set(column='permit_status', value_set=[\"IN PROCESS\",\"ISSUED\",\"RE-ISSUED\",\"REVOKED\"])\n",
    "\n",
    "validator.expect_column_values_to_be_in_set(column='bldg_type', value_set=[1.0,2.0])\n"
   ]
  },
  {
   "cell_type": "code",
   "execution_count": 9,
   "id": "c5eacd93",
   "metadata": {},
   "outputs": [
    {
     "data": {
      "application/vnd.jupyter.widget-view+json": {
       "model_id": "bd8f3656f26f4ee5aaa996be21e20bf4",
       "version_major": 2,
       "version_minor": 0
      },
      "text/plain": [
       "Calculating Metrics:   0%|          | 0/6 [00:00<?, ?it/s]"
      ]
     },
     "metadata": {},
     "output_type": "display_data"
    },
    {
     "data": {
      "application/vnd.jupyter.widget-view+json": {
       "model_id": "ab9d0f8512c34196954682e0fc6c5381",
       "version_major": 2,
       "version_minor": 0
      },
      "text/plain": [
       "Calculating Metrics:   0%|          | 0/6 [00:00<?, ?it/s]"
      ]
     },
     "metadata": {},
     "output_type": "display_data"
    },
    {
     "data": {
      "application/vnd.jupyter.widget-view+json": {
       "model_id": "7a910d4a9b024c5198142d0cbae21ec7",
       "version_major": 2,
       "version_minor": 0
      },
      "text/plain": [
       "Calculating Metrics:   0%|          | 0/6 [00:00<?, ?it/s]"
      ]
     },
     "metadata": {},
     "output_type": "display_data"
    },
    {
     "data": {
      "application/vnd.jupyter.widget-view+json": {
       "model_id": "c9c7d8a0c82642f9a78416259d9f495c",
       "version_major": 2,
       "version_minor": 0
      },
      "text/plain": [
       "Calculating Metrics:   0%|          | 0/6 [00:00<?, ?it/s]"
      ]
     },
     "metadata": {},
     "output_type": "display_data"
    },
    {
     "data": {
      "application/vnd.jupyter.widget-view+json": {
       "model_id": "9dfd89bc8f7640089709ca828997fcd5",
       "version_major": 2,
       "version_minor": 0
      },
      "text/plain": [
       "Calculating Metrics:   0%|          | 0/6 [00:00<?, ?it/s]"
      ]
     },
     "metadata": {},
     "output_type": "display_data"
    },
    {
     "data": {
      "application/vnd.jupyter.widget-view+json": {
       "model_id": "c058a0e68da84006bdd143ba8f7dea66",
       "version_major": 2,
       "version_minor": 0
      },
      "text/plain": [
       "Calculating Metrics:   0%|          | 0/6 [00:00<?, ?it/s]"
      ]
     },
     "metadata": {},
     "output_type": "display_data"
    },
    {
     "data": {
      "application/vnd.jupyter.widget-view+json": {
       "model_id": "62f649b4ba9c427c88bb6e0d21002e6e",
       "version_major": 2,
       "version_minor": 0
      },
      "text/plain": [
       "Calculating Metrics:   0%|          | 0/6 [00:00<?, ?it/s]"
      ]
     },
     "metadata": {},
     "output_type": "display_data"
    },
    {
     "data": {
      "application/vnd.jupyter.widget-view+json": {
       "model_id": "94acaadd23344a279ad61b6f40b50f10",
       "version_major": 2,
       "version_minor": 0
      },
      "text/plain": [
       "Calculating Metrics:   0%|          | 0/6 [00:00<?, ?it/s]"
      ]
     },
     "metadata": {},
     "output_type": "display_data"
    },
    {
     "data": {
      "application/vnd.jupyter.widget-view+json": {
       "model_id": "08b3ed3e5516420083f2a3ed2e3374b5",
       "version_major": 2,
       "version_minor": 0
      },
      "text/plain": [
       "Calculating Metrics:   0%|          | 0/6 [00:00<?, ?it/s]"
      ]
     },
     "metadata": {},
     "output_type": "display_data"
    },
    {
     "data": {
      "application/vnd.jupyter.widget-view+json": {
       "model_id": "11ec0b73ea1348ecbf7c21198f47c2cc",
       "version_major": 2,
       "version_minor": 0
      },
      "text/plain": [
       "Calculating Metrics:   0%|          | 0/6 [00:00<?, ?it/s]"
      ]
     },
     "metadata": {},
     "output_type": "display_data"
    },
    {
     "data": {
      "application/vnd.jupyter.widget-view+json": {
       "model_id": "7c29df209b8e4e8da2fad144fe0a75f5",
       "version_major": 2,
       "version_minor": 0
      },
      "text/plain": [
       "Calculating Metrics:   0%|          | 0/6 [00:00<?, ?it/s]"
      ]
     },
     "metadata": {},
     "output_type": "display_data"
    },
    {
     "data": {
      "application/vnd.jupyter.widget-view+json": {
       "model_id": "0385a07a8ebf4730babb3c63b4bb618d",
       "version_major": 2,
       "version_minor": 0
      },
      "text/plain": [
       "Calculating Metrics:   0%|          | 0/6 [00:00<?, ?it/s]"
      ]
     },
     "metadata": {},
     "output_type": "display_data"
    },
    {
     "data": {
      "application/vnd.jupyter.widget-view+json": {
       "model_id": "a6c31c4a1d9e4bd08dd42446ddbf661f",
       "version_major": 2,
       "version_minor": 0
      },
      "text/plain": [
       "Calculating Metrics:   0%|          | 0/6 [00:00<?, ?it/s]"
      ]
     },
     "metadata": {},
     "output_type": "display_data"
    },
    {
     "data": {
      "application/vnd.jupyter.widget-view+json": {
       "model_id": "4ce94c66261a4f07990158ebee398009",
       "version_major": 2,
       "version_minor": 0
      },
      "text/plain": [
       "Calculating Metrics:   0%|          | 0/6 [00:00<?, ?it/s]"
      ]
     },
     "metadata": {},
     "output_type": "display_data"
    },
    {
     "data": {
      "application/vnd.jupyter.widget-view+json": {
       "model_id": "cb1b6665f380432dba2bf67c83c63adf",
       "version_major": 2,
       "version_minor": 0
      },
      "text/plain": [
       "Calculating Metrics:   0%|          | 0/6 [00:00<?, ?it/s]"
      ]
     },
     "metadata": {},
     "output_type": "display_data"
    },
    {
     "data": {
      "text/plain": [
       "{\n",
       "  \"meta\": {},\n",
       "  \"result\": {\n",
       "    \"element_count\": 3931021,\n",
       "    \"unexpected_count\": 0,\n",
       "    \"unexpected_percent\": 0.0,\n",
       "    \"partial_unexpected_list\": []\n",
       "  },\n",
       "  \"success\": true,\n",
       "  \"exception_info\": {\n",
       "    \"raised_exception\": false,\n",
       "    \"exception_traceback\": null,\n",
       "    \"exception_message\": null\n",
       "  }\n",
       "}"
      ]
     },
     "execution_count": 9,
     "metadata": {},
     "output_type": "execute_result"
    }
   ],
   "source": [
    "validator.expect_column_values_to_not_be_null(column='permittee_s_first_name')\n",
    "validator.expect_column_values_to_not_be_null(column='permittee_s_last_name')\n",
    "validator.expect_column_values_to_not_be_null(column='permittee_s_business_name')\n",
    "validator.expect_column_values_to_not_be_null(column='permittee_s_phone__')\n",
    "validator.expect_column_values_to_not_be_null(column='permittee_s_license_type')\n",
    "validator.expect_column_values_to_not_be_null(column='permittee_s_license__')\n",
    "validator.expect_column_values_to_not_be_null(column='act_as_superintendent')\n",
    "validator.expect_column_values_to_not_be_null(column='permittee_s_other_title')\n",
    "validator.expect_column_values_to_not_be_null(column='hic_license')\n",
    "validator.expect_column_values_to_not_be_null(column='site_safety_mgr_s_first_name')\n",
    "validator.expect_column_values_to_not_be_null(column='site_safety_mgr_s_last_name')\n",
    "validator.expect_column_values_to_not_be_null(column='site_safety_mgr_business_name')\n",
    "validator.expect_column_values_to_not_be_null(column='superintendent_first___last_name')\n",
    "validator.expect_column_values_to_not_be_null(column='superintendent_business_name')\n",
    "validator.expect_column_values_to_not_be_null(column='non_profit')"
   ]
  },
  {
   "cell_type": "code",
   "execution_count": 3,
   "id": "91dbafb1",
   "metadata": {},
   "outputs": [
    {
     "data": {
      "application/vnd.jupyter.widget-view+json": {
       "model_id": "0430acb578f344a3a63b173ce11b7618",
       "version_major": 2,
       "version_minor": 0
      },
      "text/plain": [
       "Calculating Metrics:   0%|          | 0/6 [00:00<?, ?it/s]"
      ]
     },
     "metadata": {},
     "output_type": "display_data"
    },
    {
     "data": {
      "text/plain": [
       "{\n",
       "  \"meta\": {},\n",
       "  \"result\": {\n",
       "    \"element_count\": 3931021,\n",
       "    \"unexpected_count\": 0,\n",
       "    \"unexpected_percent\": 0.0,\n",
       "    \"partial_unexpected_list\": []\n",
       "  },\n",
       "  \"success\": true,\n",
       "  \"exception_info\": {\n",
       "    \"raised_exception\": false,\n",
       "    \"exception_traceback\": null,\n",
       "    \"exception_message\": null\n",
       "  }\n",
       "}"
      ]
     },
     "execution_count": 3,
     "metadata": {},
     "output_type": "execute_result"
    }
   ],
   "source": [
    "validator.expect_column_values_to_not_be_null(column='owner_s_house_street_name')\n"
   ]
  },
  {
   "cell_type": "code",
   "execution_count": 4,
   "id": "a6420e7d",
   "metadata": {},
   "outputs": [
    {
     "data": {
      "application/vnd.jupyter.widget-view+json": {
       "model_id": "39a4e8efc883418f9d0769b6fd41e8e0",
       "version_major": 2,
       "version_minor": 0
      },
      "text/plain": [
       "Calculating Metrics:   0%|          | 0/6 [00:00<?, ?it/s]"
      ]
     },
     "metadata": {},
     "output_type": "display_data"
    },
    {
     "data": {
      "text/plain": [
       "{\n",
       "  \"meta\": {},\n",
       "  \"result\": {\n",
       "    \"element_count\": 3931021,\n",
       "    \"unexpected_count\": 0,\n",
       "    \"unexpected_percent\": 0.0,\n",
       "    \"partial_unexpected_list\": []\n",
       "  },\n",
       "  \"success\": true,\n",
       "  \"exception_info\": {\n",
       "    \"raised_exception\": false,\n",
       "    \"exception_traceback\": null,\n",
       "    \"exception_message\": null\n",
       "  }\n",
       "}"
      ]
     },
     "execution_count": 4,
     "metadata": {},
     "output_type": "execute_result"
    }
   ],
   "source": [
    "validator.expect_column_values_to_not_be_null(column='owner_s_business_name')\n"
   ]
  },
  {
   "cell_type": "code",
   "execution_count": 6,
   "id": "9f0885cc",
   "metadata": {},
   "outputs": [
    {
     "data": {
      "application/vnd.jupyter.widget-view+json": {
       "model_id": "52b3b240d0794a6aad422d7669771918",
       "version_major": 2,
       "version_minor": 0
      },
      "text/plain": [
       "Calculating Metrics:   0%|          | 0/6 [00:00<?, ?it/s]"
      ]
     },
     "metadata": {},
     "output_type": "display_data"
    },
    {
     "data": {
      "text/plain": [
       "{\n",
       "  \"meta\": {},\n",
       "  \"result\": {\n",
       "    \"element_count\": 3931021,\n",
       "    \"unexpected_count\": 0,\n",
       "    \"unexpected_percent\": 0.0,\n",
       "    \"partial_unexpected_list\": []\n",
       "  },\n",
       "  \"success\": true,\n",
       "  \"exception_info\": {\n",
       "    \"raised_exception\": false,\n",
       "    \"exception_traceback\": null,\n",
       "    \"exception_message\": null\n",
       "  }\n",
       "}"
      ]
     },
     "execution_count": 6,
     "metadata": {},
     "output_type": "execute_result"
    }
   ],
   "source": [
    "validator.expect_column_values_to_not_be_null(column='owner_s_business_type')\n"
   ]
  },
  {
   "cell_type": "code",
   "execution_count": 7,
   "id": "a7285e1c",
   "metadata": {},
   "outputs": [
    {
     "data": {
      "application/vnd.jupyter.widget-view+json": {
       "model_id": "3f45fa18f15f4e428bc94115d2da4114",
       "version_major": 2,
       "version_minor": 0
      },
      "text/plain": [
       "Calculating Metrics:   0%|          | 0/6 [00:00<?, ?it/s]"
      ]
     },
     "metadata": {},
     "output_type": "display_data"
    },
    {
     "data": {
      "text/plain": [
       "{\n",
       "  \"meta\": {},\n",
       "  \"result\": {\n",
       "    \"element_count\": 3931021,\n",
       "    \"unexpected_count\": 0,\n",
       "    \"unexpected_percent\": 0.0,\n",
       "    \"partial_unexpected_list\": []\n",
       "  },\n",
       "  \"success\": true,\n",
       "  \"exception_info\": {\n",
       "    \"raised_exception\": false,\n",
       "    \"exception_traceback\": null,\n",
       "    \"exception_message\": null\n",
       "  }\n",
       "}"
      ]
     },
     "execution_count": 7,
     "metadata": {},
     "output_type": "execute_result"
    }
   ],
   "source": [
    "validator.expect_column_values_to_not_be_null(column='filing_date')\n"
   ]
  },
  {
   "cell_type": "code",
   "execution_count": 8,
   "id": "f9a29456",
   "metadata": {},
   "outputs": [
    {
     "data": {
      "application/vnd.jupyter.widget-view+json": {
       "model_id": "059a1901c3ed4acea0a20c119a43b3b3",
       "version_major": 2,
       "version_minor": 0
      },
      "text/plain": [
       "Calculating Metrics:   0%|          | 0/6 [00:00<?, ?it/s]"
      ]
     },
     "metadata": {},
     "output_type": "display_data"
    },
    {
     "data": {
      "application/vnd.jupyter.widget-view+json": {
       "model_id": "ebeafdca66fa45b4804d6e539efce856",
       "version_major": 2,
       "version_minor": 0
      },
      "text/plain": [
       "Calculating Metrics:   0%|          | 0/6 [00:00<?, ?it/s]"
      ]
     },
     "metadata": {},
     "output_type": "display_data"
    },
    {
     "data": {
      "application/vnd.jupyter.widget-view+json": {
       "model_id": "63753972540d49879f593bde1dbc4829",
       "version_major": 2,
       "version_minor": 0
      },
      "text/plain": [
       "Calculating Metrics:   0%|          | 0/6 [00:00<?, ?it/s]"
      ]
     },
     "metadata": {},
     "output_type": "display_data"
    },
    {
     "data": {
      "application/vnd.jupyter.widget-view+json": {
       "model_id": "57591cffdf90493ca2cfc4515b20e1db",
       "version_major": 2,
       "version_minor": 0
      },
      "text/plain": [
       "Calculating Metrics:   0%|          | 0/6 [00:00<?, ?it/s]"
      ]
     },
     "metadata": {},
     "output_type": "display_data"
    },
    {
     "data": {
      "application/vnd.jupyter.widget-view+json": {
       "model_id": "cc61c5842b9e4ca0ae6304f2db8e2ee7",
       "version_major": 2,
       "version_minor": 0
      },
      "text/plain": [
       "Calculating Metrics:   0%|          | 0/6 [00:00<?, ?it/s]"
      ]
     },
     "metadata": {},
     "output_type": "display_data"
    },
    {
     "data": {
      "application/vnd.jupyter.widget-view+json": {
       "model_id": "64a61f1722cb401aa9caf88b1c6789e5",
       "version_major": 2,
       "version_minor": 0
      },
      "text/plain": [
       "Calculating Metrics:   0%|          | 0/6 [00:00<?, ?it/s]"
      ]
     },
     "metadata": {},
     "output_type": "display_data"
    },
    {
     "data": {
      "application/vnd.jupyter.widget-view+json": {
       "model_id": "84fdcd3cc95d47b1a468158d9a5c19c4",
       "version_major": 2,
       "version_minor": 0
      },
      "text/plain": [
       "Calculating Metrics:   0%|          | 0/6 [00:00<?, ?it/s]"
      ]
     },
     "metadata": {},
     "output_type": "display_data"
    },
    {
     "data": {
      "application/vnd.jupyter.widget-view+json": {
       "model_id": "93aacbe0eaca4400af6f2e8d7c608891",
       "version_major": 2,
       "version_minor": 0
      },
      "text/plain": [
       "Calculating Metrics:   0%|          | 0/6 [00:00<?, ?it/s]"
      ]
     },
     "metadata": {},
     "output_type": "display_data"
    },
    {
     "data": {
      "application/vnd.jupyter.widget-view+json": {
       "model_id": "d63d1b6baefa43a9857ecee9b9b5c041",
       "version_major": 2,
       "version_minor": 0
      },
      "text/plain": [
       "Calculating Metrics:   0%|          | 0/6 [00:00<?, ?it/s]"
      ]
     },
     "metadata": {},
     "output_type": "display_data"
    },
    {
     "data": {
      "application/vnd.jupyter.widget-view+json": {
       "model_id": "21a3b615a6b34af8bf6f19cee23d2597",
       "version_major": 2,
       "version_minor": 0
      },
      "text/plain": [
       "Calculating Metrics:   0%|          | 0/6 [00:00<?, ?it/s]"
      ]
     },
     "metadata": {},
     "output_type": "display_data"
    },
    {
     "data": {
      "application/vnd.jupyter.widget-view+json": {
       "model_id": "2acac164bd494d95b5d95daa012e4989",
       "version_major": 2,
       "version_minor": 0
      },
      "text/plain": [
       "Calculating Metrics:   0%|          | 0/6 [00:00<?, ?it/s]"
      ]
     },
     "metadata": {},
     "output_type": "display_data"
    },
    {
     "data": {
      "application/vnd.jupyter.widget-view+json": {
       "model_id": "1be24842d74046aebabf59b1205ee88d",
       "version_major": 2,
       "version_minor": 0
      },
      "text/plain": [
       "Calculating Metrics:   0%|          | 0/6 [00:00<?, ?it/s]"
      ]
     },
     "metadata": {},
     "output_type": "display_data"
    },
    {
     "data": {
      "application/vnd.jupyter.widget-view+json": {
       "model_id": "27881ef8e3f44f53bca2ee2d0491e84a",
       "version_major": 2,
       "version_minor": 0
      },
      "text/plain": [
       "Calculating Metrics:   0%|          | 0/6 [00:00<?, ?it/s]"
      ]
     },
     "metadata": {},
     "output_type": "display_data"
    },
    {
     "data": {
      "application/vnd.jupyter.widget-view+json": {
       "model_id": "71e182473d864847ac61115f9173062e",
       "version_major": 2,
       "version_minor": 0
      },
      "text/plain": [
       "Calculating Metrics:   0%|          | 0/6 [00:00<?, ?it/s]"
      ]
     },
     "metadata": {},
     "output_type": "display_data"
    },
    {
     "data": {
      "application/vnd.jupyter.widget-view+json": {
       "model_id": "410347856d4948888ed06549352e2a66",
       "version_major": 2,
       "version_minor": 0
      },
      "text/plain": [
       "Calculating Metrics:   0%|          | 0/6 [00:00<?, ?it/s]"
      ]
     },
     "metadata": {},
     "output_type": "display_data"
    },
    {
     "data": {
      "application/vnd.jupyter.widget-view+json": {
       "model_id": "5c340160c2064bbf8fbba499e4c2b704",
       "version_major": 2,
       "version_minor": 0
      },
      "text/plain": [
       "Calculating Metrics:   0%|          | 0/6 [00:00<?, ?it/s]"
      ]
     },
     "metadata": {},
     "output_type": "display_data"
    },
    {
     "data": {
      "application/vnd.jupyter.widget-view+json": {
       "model_id": "aeae527ba3cc49c7ae059eda38d628c3",
       "version_major": 2,
       "version_minor": 0
      },
      "text/plain": [
       "Calculating Metrics:   0%|          | 0/6 [00:00<?, ?it/s]"
      ]
     },
     "metadata": {},
     "output_type": "display_data"
    },
    {
     "data": {
      "text/plain": [
       "{\n",
       "  \"meta\": {},\n",
       "  \"result\": {\n",
       "    \"element_count\": 3931021,\n",
       "    \"unexpected_count\": 0,\n",
       "    \"unexpected_percent\": 0.0,\n",
       "    \"partial_unexpected_list\": []\n",
       "  },\n",
       "  \"success\": true,\n",
       "  \"exception_info\": {\n",
       "    \"raised_exception\": false,\n",
       "    \"exception_traceback\": null,\n",
       "    \"exception_message\": null\n",
       "  }\n",
       "}"
      ]
     },
     "execution_count": 8,
     "metadata": {},
     "output_type": "execute_result"
    }
   ],
   "source": [
    "validator.expect_column_values_to_not_be_null(column='owner_s_first_name')\n",
    "validator.expect_column_values_to_not_be_null(column='owner_s_last_name')\n",
    "validator.expect_column_values_to_not_be_null(column='owner_s_house__')\n",
    "validator.expect_column_values_to_not_be_null(column='city')\n",
    "validator.expect_column_values_to_not_be_null(column='state')\n",
    "validator.expect_column_values_to_not_be_null(column='owner_s_zip_code')\n",
    "validator.expect_column_values_to_not_be_null(column='owner_s_phone__')\n",
    "validator.expect_column_values_to_not_be_null(column='dobrundate')\n",
    "validator.expect_column_values_to_not_be_null(column='permit_si_no')\n",
    "validator.expect_column_values_to_not_be_null(column='gis_latitude')\n",
    "validator.expect_column_values_to_not_be_null(column='gis_longitude')\n",
    "validator.expect_column_values_to_not_be_null(column='gis_council_district')\n",
    "validator.expect_column_values_to_not_be_null(column='gis_census_tract')\n",
    "validator.expect_column_values_to_not_be_null(column='gis_nta_name')\n",
    "validator.expect_column_values_to_not_be_null(column='house_id')\n",
    "validator.expect_column_values_to_not_be_null(column='location_id')\n",
    "validator.expect_column_values_to_not_be_null(column='owner_id')"
   ]
  },
  {
   "cell_type": "markdown",
   "id": "5c301677",
   "metadata": {},
   "source": [
    "## Review & Save Your Expectations\n",
    "\n",
    "Let's save the expectation suite as a JSON file in the `great_expectations/expectations` directory of your project.\n",
    "\n",
    "Let's now rebuild your Data Docs, which helps you communicate about your data with both machines and humans."
   ]
  },
  {
   "cell_type": "code",
   "execution_count": null,
   "id": "cdecde84",
   "metadata": {},
   "outputs": [],
   "source": [
    "print(validator.get_expectation_suite(discard_failed_expectations=False))\n",
    "validator.save_expectation_suite(discard_failed_expectations=False)\n",
    "\n",
    "checkpoint_config = {\n",
    "    \"class_name\": \"SimpleCheckpoint\",\n",
    "    \"validations\": [\n",
    "        {\n",
    "            \"batch_request\": batch_request,\n",
    "            \"expectation_suite_name\": expectation_suite_name\n",
    "        }\n",
    "    ]\n",
    "}\n",
    "checkpoint = SimpleCheckpoint(\n",
    "    f\"{validator.active_batch_definition.data_asset_name}_{expectation_suite_name}\",\n",
    "    context,\n",
    "    **checkpoint_config\n",
    ")\n",
    "checkpoint_result = checkpoint.run()\n",
    "\n",
    "context.build_data_docs()\n",
    "\n",
    "validation_result_identifier = checkpoint_result.list_validation_result_identifiers()[0]\n",
    "context.open_data_docs(resource_identifier=validation_result_identifier)"
   ]
  }
 ],
 "metadata": {
  "kernelspec": {
   "display_name": "Python 3 (ipykernel)",
   "language": "python",
   "name": "python3"
  },
  "language_info": {
   "codemirror_mode": {
    "name": "ipython",
    "version": 3
   },
   "file_extension": ".py",
   "mimetype": "text/x-python",
   "name": "python",
   "nbconvert_exporter": "python",
   "pygments_lexer": "ipython3",
   "version": "3.10.6"
  }
 },
 "nbformat": 4,
 "nbformat_minor": 5
}
