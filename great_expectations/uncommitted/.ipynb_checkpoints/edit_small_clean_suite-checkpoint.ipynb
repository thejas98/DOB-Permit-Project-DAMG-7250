{
 "cells": [
  {
   "cell_type": "markdown",
   "id": "4e16f473",
   "metadata": {},
   "source": [
    "# Edit Your Expectation Suite\n",
    "Use this notebook to recreate and modify your expectation suite:\n",
    "\n",
    "**Expectation Suite Name**: `small_clean_suite`\n"
   ]
  },
  {
   "cell_type": "code",
   "execution_count": null,
   "id": "4ac68a76",
   "metadata": {},
   "outputs": [],
   "source": [
    "import datetime\n",
    "\n",
    "import pandas as pd\n",
    "\n",
    "import great_expectations as gx\n",
    "import great_expectations.jupyter_ux\n",
    "from great_expectations.core.batch import BatchRequest\n",
    "from great_expectations.checkpoint import SimpleCheckpoint\n",
    "from great_expectations.exceptions import DataContextError\n",
    "\n",
    "context = gx.get_context()\n",
    "\n",
    "# Note that if you modify this batch request, you may save the new version as a .json file\n",
    "#  to pass in later via the --batch-request option\n",
    "batch_request = {'datasource_name': 'small_clean', 'data_connector_name': 'default_inferred_data_connector_name', 'data_asset_name': 'small_clean.csv', 'limit': 1000}\n",
    "\n",
    "\n",
    "# Feel free to change the name of your suite here. Renaming this will not remove the other one.\n",
    "expectation_suite_name = \"small_clean_suite\"\n",
    "try:\n",
    "    suite = context.get_expectation_suite(expectation_suite_name=expectation_suite_name)\n",
    "    print(f'Loaded ExpectationSuite \"{suite.expectation_suite_name}\" containing {len(suite.expectations)} expectations.')\n",
    "except DataContextError:\n",
    "    suite = context.add_expectation_suite(expectation_suite_name=expectation_suite_name)\n",
    "    print(f'Created ExpectationSuite \"{suite.expectation_suite_name}\".')\n",
    "\n",
    "\n",
    "validator = context.get_validator(\n",
    "    batch_request=BatchRequest(**batch_request),\n",
    "    expectation_suite_name=expectation_suite_name\n",
    ")\n",
    "column_names = [f'\"{column_name}\"' for column_name in validator.columns()]\n",
    "print(f\"Columns: {', '.join(column_names)}.\")\n",
    "validator.head(n_rows=5, fetch_all=False)"
   ]
  },
  {
   "cell_type": "markdown",
   "id": "5c28792d",
   "metadata": {},
   "source": [
    "## Create & Edit Expectations\n",
    "\n",
    "\n",
    "Add expectations by calling specific expectation methods on the `validator` object. They all begin with `.expect_` which makes autocompleting easy using tab.\n",
    "\n",
    "Because you selected interactive mode, you are now creating or editing an Expectation Suite with validator feedback from the sample batch of data that you specified (see `batch_request`).\n",
    "\n",
    "Note that if you select manual mode you may still create or edit an Expectation Suite directly, without feedback from the `validator`. See our documentation for more info and examples: [How to create a new Expectation Suite without a sample batch](https://docs.greatexpectations.io/docs/guides/expectations/how_to_create_and_edit_expectations_based_on_domain_knowledge_without_inspecting_data_directly).\n",
    "\n",
    "\n",
    "\n",
    "You can see all the available expectations in the **[expectation gallery](https://greatexpectations.io/expectations)**."
   ]
  },
  {
   "cell_type": "markdown",
   "id": "53d5479c",
   "metadata": {},
   "source": [
    "### Table Expectation(s)"
   ]
  },
  {
   "cell_type": "code",
   "execution_count": null,
   "id": "2605c8f4",
   "metadata": {},
   "outputs": [],
   "source": [
    "\n",
    "validator.expect_table_row_count_to_be_between(max_value=1000, min_value=1000)"
   ]
  },
  {
   "cell_type": "code",
   "execution_count": null,
   "id": "3b59e24a",
   "metadata": {},
   "outputs": [],
   "source": [
    "\n",
    "validator.expect_table_columns_to_match_set(column_set=['street_name', 'self_cert', 'permit_sequence__', 'state', 'site_safety_mgr_s_first_name', 'house__', 'gis_longitude', 'owner_id', 'owner_s_first_name', 'permittee_s_license__', 'permittee_s_business_name', 'permittee_s_other_title', 'permittee_s_first_name', 'job__', 'job_type', 'site_safety_mgr_s_last_name', 'superintendent_first___last_name', 'job_start_date', 'gis_council_district', 'house_id', 'city', 'permittee_s_license_type', 'filing_status', 'borough', 'bldg_type', 'zip_code', 'special_district_2', 'filing_date', 'issuance_date', 'permit_type', 'block', 'job_doc___', 'special_district_1', 'expiration_date', 'permittee_s_phone__', 'permit_si_no', 'owner_s_last_name', 'bin__', 'site_fill', 'owner_s_business_type', 'non_profit', 'owner_s_zip_code', 'permit_status', 'location_id', 'gis_nta_name', 'work_type', 'community_board', 'lot', 'dobrundate', 'owner_s_business_name', 'permit_subtype', 'residential', 'owner_s_house__', 'oil_gas', 'superintendent_business_name', 'gis_latitude', 'permittee_s_last_name', 'gis_census_tract', 'hic_license', 'act_as_superintendent', 'site_safety_mgr_business_name', 'owner_s_house_street_name', 'owner_s_phone__'])"
   ]
  },
  {
   "cell_type": "markdown",
   "id": "becc54e2",
   "metadata": {},
   "source": [
    "### Column Expectation(s)"
   ]
  },
  {
   "cell_type": "markdown",
   "id": "8b5e4498",
   "metadata": {},
   "source": [
    "## Review & Save Your Expectations\n",
    "\n",
    "Let's save the expectation suite as a JSON file in the `great_expectations/expectations` directory of your project.\n",
    "\n",
    "Let's now rebuild your Data Docs, which helps you communicate about your data with both machines and humans."
   ]
  },
  {
   "cell_type": "code",
   "execution_count": null,
   "id": "e8f58bc8",
   "metadata": {},
   "outputs": [],
   "source": [
    "print(validator.get_expectation_suite(discard_failed_expectations=False))\n",
    "validator.save_expectation_suite(discard_failed_expectations=False)\n",
    "\n",
    "checkpoint_config = {\n",
    "    \"class_name\": \"SimpleCheckpoint\",\n",
    "    \"validations\": [\n",
    "        {\n",
    "            \"batch_request\": batch_request,\n",
    "            \"expectation_suite_name\": expectation_suite_name\n",
    "        }\n",
    "    ]\n",
    "}\n",
    "checkpoint = SimpleCheckpoint(\n",
    "    f\"{validator.active_batch_definition.data_asset_name}_{expectation_suite_name}\",\n",
    "    context,\n",
    "    **checkpoint_config\n",
    ")\n",
    "checkpoint_result = checkpoint.run()\n",
    "\n",
    "context.build_data_docs()\n",
    "\n",
    "validation_result_identifier = checkpoint_result.list_validation_result_identifiers()[0]\n",
    "context.open_data_docs(resource_identifier=validation_result_identifier)"
   ]
  }
 ],
 "metadata": {
  "kernelspec": {
   "display_name": "Python 3 (ipykernel)",
   "language": "python",
   "name": "python3"
  },
  "language_info": {
   "codemirror_mode": {
    "name": "ipython",
    "version": 3
   },
   "file_extension": ".py",
   "mimetype": "text/x-python",
   "name": "python",
   "nbconvert_exporter": "python",
   "pygments_lexer": "ipython3",
   "version": "3.10.6"
  }
 },
 "nbformat": 4,
 "nbformat_minor": 5
}
