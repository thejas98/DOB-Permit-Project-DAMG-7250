{
 "cells": [
  {
   "cell_type": "markdown",
   "id": "8be6adc0",
   "metadata": {},
   "source": [
    "# Edit Your Expectation Suite\n",
    "Use this notebook to recreate and modify your expectation suite:\n",
    "\n",
    "**Expectation Suite Name**: `small_clean_suite`\n"
   ]
  },
  {
   "cell_type": "code",
   "execution_count": 1,
   "id": "f800b916",
   "metadata": {},
   "outputs": [
    {
     "name": "stdout",
     "output_type": "stream",
     "text": [
      "2023-04-21T00:39:04-0400 - INFO - Great Expectations logging enabled at 20 level by JupyterUX module.\n",
      "2023-04-21T00:39:04-0400 - INFO - FileDataContext loading fluent config\n",
      "2023-04-21T00:39:04-0400 - INFO - Loading 'datasources' ->\n",
      "[]\n",
      "2023-04-21T00:39:04-0400 - INFO - Loaded 'datasources' ->\n",
      "[]\n",
      "Loaded ExpectationSuite \"small_clean_suite\" containing 0 expectations.\n"
     ]
    },
    {
     "data": {
      "application/vnd.jupyter.widget-view+json": {
       "model_id": "5e68f8c5de5048eb934a3f55a3863c0d",
       "version_major": 2,
       "version_minor": 0
      },
      "text/plain": [
       "Calculating Metrics:   0%|          | 0/2 [00:00<?, ?it/s]"
      ]
     },
     "metadata": {},
     "output_type": "display_data"
    },
    {
     "name": "stdout",
     "output_type": "stream",
     "text": [
      "Columns: \"borough\", \"bin__\", \"house__\", \"street_name\", \"job__\", \"job_doc___\", \"job_type\", \"self_cert\", \"block\", \"lot\", \"community_board\", \"zip_code\", \"bldg_type\", \"residential\", \"special_district_1\", \"special_district_2\", \"work_type\", \"permit_status\", \"filing_status\", \"permit_type\", \"permit_sequence__\", \"permit_subtype\", \"oil_gas\", \"site_fill\", \"filing_date\", \"issuance_date\", \"expiration_date\", \"job_start_date\", \"permittee_s_first_name\", \"permittee_s_last_name\", \"permittee_s_business_name\", \"permittee_s_phone__\", \"permittee_s_license_type\", \"permittee_s_license__\", \"act_as_superintendent\", \"permittee_s_other_title\", \"hic_license\", \"site_safety_mgr_s_first_name\", \"site_safety_mgr_s_last_name\", \"site_safety_mgr_business_name\", \"superintendent_first___last_name\", \"superintendent_business_name\", \"owner_s_business_type\", \"non_profit\", \"owner_s_business_name\", \"owner_s_first_name\", \"owner_s_last_name\", \"owner_s_house__\", \"owner_s_house_street_name\", \"city\", \"state\", \"owner_s_zip_code\", \"owner_s_phone__\", \"dobrundate\", \"permit_si_no\", \"gis_latitude\", \"gis_longitude\", \"gis_council_district\", \"gis_census_tract\", \"gis_nta_name\", \"house_id\", \"location_id\", \"owner_id\".\n"
     ]
    },
    {
     "data": {
      "application/vnd.jupyter.widget-view+json": {
       "model_id": "0b68a312b0d748669d870740b8227345",
       "version_major": 2,
       "version_minor": 0
      },
      "text/plain": [
       "Calculating Metrics:   0%|          | 0/1 [00:00<?, ?it/s]"
      ]
     },
     "metadata": {},
     "output_type": "display_data"
    },
    {
     "data": {
      "text/html": [
       "<div>\n",
       "<style scoped>\n",
       "    .dataframe tbody tr th:only-of-type {\n",
       "        vertical-align: middle;\n",
       "    }\n",
       "\n",
       "    .dataframe tbody tr th {\n",
       "        vertical-align: top;\n",
       "    }\n",
       "\n",
       "    .dataframe thead th {\n",
       "        text-align: right;\n",
       "    }\n",
       "</style>\n",
       "<table border=\"1\" class=\"dataframe\">\n",
       "  <thead>\n",
       "    <tr style=\"text-align: right;\">\n",
       "      <th></th>\n",
       "      <th>borough</th>\n",
       "      <th>bin__</th>\n",
       "      <th>house__</th>\n",
       "      <th>street_name</th>\n",
       "      <th>job__</th>\n",
       "      <th>job_doc___</th>\n",
       "      <th>job_type</th>\n",
       "      <th>self_cert</th>\n",
       "      <th>block</th>\n",
       "      <th>lot</th>\n",
       "      <th>community_board</th>\n",
       "      <th>zip_code</th>\n",
       "      <th>bldg_type</th>\n",
       "      <th>residential</th>\n",
       "      <th>special_district_1</th>\n",
       "      <th>special_district_2</th>\n",
       "      <th>work_type</th>\n",
       "      <th>permit_status</th>\n",
       "      <th>filing_status</th>\n",
       "      <th>permit_type</th>\n",
       "      <th>permit_sequence__</th>\n",
       "      <th>permit_subtype</th>\n",
       "      <th>oil_gas</th>\n",
       "      <th>site_fill</th>\n",
       "      <th>filing_date</th>\n",
       "      <th>issuance_date</th>\n",
       "      <th>expiration_date</th>\n",
       "      <th>job_start_date</th>\n",
       "      <th>permittee_s_first_name</th>\n",
       "      <th>permittee_s_last_name</th>\n",
       "      <th>permittee_s_business_name</th>\n",
       "      <th>permittee_s_phone__</th>\n",
       "      <th>permittee_s_license_type</th>\n",
       "      <th>permittee_s_license__</th>\n",
       "      <th>act_as_superintendent</th>\n",
       "      <th>permittee_s_other_title</th>\n",
       "      <th>hic_license</th>\n",
       "      <th>site_safety_mgr_s_first_name</th>\n",
       "      <th>site_safety_mgr_s_last_name</th>\n",
       "      <th>site_safety_mgr_business_name</th>\n",
       "      <th>superintendent_first___last_name</th>\n",
       "      <th>superintendent_business_name</th>\n",
       "      <th>owner_s_business_type</th>\n",
       "      <th>non_profit</th>\n",
       "      <th>owner_s_business_name</th>\n",
       "      <th>owner_s_first_name</th>\n",
       "      <th>owner_s_last_name</th>\n",
       "      <th>owner_s_house__</th>\n",
       "      <th>owner_s_house_street_name</th>\n",
       "      <th>city</th>\n",
       "      <th>state</th>\n",
       "      <th>owner_s_zip_code</th>\n",
       "      <th>owner_s_phone__</th>\n",
       "      <th>dobrundate</th>\n",
       "      <th>permit_si_no</th>\n",
       "      <th>gis_latitude</th>\n",
       "      <th>gis_longitude</th>\n",
       "      <th>gis_council_district</th>\n",
       "      <th>gis_census_tract</th>\n",
       "      <th>gis_nta_name</th>\n",
       "      <th>house_id</th>\n",
       "      <th>location_id</th>\n",
       "      <th>owner_id</th>\n",
       "    </tr>\n",
       "  </thead>\n",
       "  <tbody>\n",
       "    <tr>\n",
       "      <th>0</th>\n",
       "      <td>MANHATTAN</td>\n",
       "      <td>1088749</td>\n",
       "      <td>1</td>\n",
       "      <td>MADISON AVE</td>\n",
       "      <td>141008987</td>\n",
       "      <td>1</td>\n",
       "      <td>A3</td>\n",
       "      <td>Y</td>\n",
       "      <td>853</td>\n",
       "      <td>2</td>\n",
       "      <td>105</td>\n",
       "      <td>10010.0</td>\n",
       "      <td>2.0</td>\n",
       "      <td>N</td>\n",
       "      <td>Not Available</td>\n",
       "      <td>Not Available</td>\n",
       "      <td>EQ</td>\n",
       "      <td>ISSUED</td>\n",
       "      <td>INITIAL</td>\n",
       "      <td>EQ</td>\n",
       "      <td>1</td>\n",
       "      <td>OT</td>\n",
       "      <td>N</td>\n",
       "      <td>Not Available</td>\n",
       "      <td>05/10/2022</td>\n",
       "      <td>05/10/2022</td>\n",
       "      <td>05/10/2023</td>\n",
       "      <td>05/10/2022</td>\n",
       "      <td>FRANKIE</td>\n",
       "      <td>COLLETTA</td>\n",
       "      <td>John Doe Inc</td>\n",
       "      <td>2.122441e+09</td>\n",
       "      <td>GC</td>\n",
       "      <td>0</td>\n",
       "      <td>N</td>\n",
       "      <td>Not Available</td>\n",
       "      <td>Not Available</td>\n",
       "      <td>Not Available</td>\n",
       "      <td>Not Available</td>\n",
       "      <td>Not Available</td>\n",
       "      <td>John Doe</td>\n",
       "      <td>John Doe Inc</td>\n",
       "      <td>CORPORATION</td>\n",
       "      <td>N</td>\n",
       "      <td>John Doe Inc</td>\n",
       "      <td>JOHN</td>\n",
       "      <td>KRUSH</td>\n",
       "      <td>-1</td>\n",
       "      <td>Missing street name</td>\n",
       "      <td>Not Available</td>\n",
       "      <td>Not Available</td>\n",
       "      <td>0.0</td>\n",
       "      <td>2.125943e+09</td>\n",
       "      <td>2022-05-11</td>\n",
       "      <td>3905851</td>\n",
       "      <td>40.740909</td>\n",
       "      <td>-73.987947</td>\n",
       "      <td>2.0</td>\n",
       "      <td>56.0</td>\n",
       "      <td>Hudson Yards-Chelsea-Flatiron-Union Square</td>\n",
       "      <td>1_40.740909_-73.987947</td>\n",
       "      <td>10010.0-853-2</td>\n",
       "      <td>JOHN-KRUSH-2125942700.0</td>\n",
       "    </tr>\n",
       "    <tr>\n",
       "      <th>1</th>\n",
       "      <td>STATEN ISLAND</td>\n",
       "      <td>5076937</td>\n",
       "      <td>87</td>\n",
       "      <td>BOYLAN STREET</td>\n",
       "      <td>540218539</td>\n",
       "      <td>1</td>\n",
       "      <td>A2</td>\n",
       "      <td>Y</td>\n",
       "      <td>5687</td>\n",
       "      <td>66</td>\n",
       "      <td>503</td>\n",
       "      <td>10312.0</td>\n",
       "      <td>1.0</td>\n",
       "      <td>YES</td>\n",
       "      <td>SRD</td>\n",
       "      <td>Not Available</td>\n",
       "      <td>OT</td>\n",
       "      <td>ISSUED</td>\n",
       "      <td>INITIAL</td>\n",
       "      <td>EW</td>\n",
       "      <td>1</td>\n",
       "      <td>OT</td>\n",
       "      <td>N</td>\n",
       "      <td>NOT APPLICABLE</td>\n",
       "      <td>05/10/2022</td>\n",
       "      <td>05/10/2022</td>\n",
       "      <td>10/01/2022</td>\n",
       "      <td>05/12/2022</td>\n",
       "      <td>PAUL</td>\n",
       "      <td>JOYCE</td>\n",
       "      <td>John Doe Inc</td>\n",
       "      <td>8.055408e+09</td>\n",
       "      <td>GC</td>\n",
       "      <td>0</td>\n",
       "      <td>N</td>\n",
       "      <td>Not Available</td>\n",
       "      <td>Not Available</td>\n",
       "      <td>Not Available</td>\n",
       "      <td>Not Available</td>\n",
       "      <td>Not Available</td>\n",
       "      <td>John Doe</td>\n",
       "      <td>John Doe Inc</td>\n",
       "      <td>INDIVIDUAL</td>\n",
       "      <td>N</td>\n",
       "      <td>John Doe Inc</td>\n",
       "      <td>STEVEN</td>\n",
       "      <td>MONTANA</td>\n",
       "      <td>-1</td>\n",
       "      <td>Missing street name</td>\n",
       "      <td>Not Available</td>\n",
       "      <td>Not Available</td>\n",
       "      <td>0.0</td>\n",
       "      <td>9.174202e+09</td>\n",
       "      <td>2022-05-11</td>\n",
       "      <td>3905852</td>\n",
       "      <td>40.563654</td>\n",
       "      <td>-74.179584</td>\n",
       "      <td>51.0</td>\n",
       "      <td>17008.0</td>\n",
       "      <td>Arden Heights</td>\n",
       "      <td>87_40.563654_-74.179584</td>\n",
       "      <td>10312.0-5687-66</td>\n",
       "      <td>STEVEN-MONTANA-9174201655.0</td>\n",
       "    </tr>\n",
       "    <tr>\n",
       "      <th>2</th>\n",
       "      <td>STATEN ISLAND</td>\n",
       "      <td>5001506</td>\n",
       "      <td>217</td>\n",
       "      <td>LAFAYETTE AVENUE</td>\n",
       "      <td>540218575</td>\n",
       "      <td>1</td>\n",
       "      <td>A2</td>\n",
       "      <td>Y</td>\n",
       "      <td>64</td>\n",
       "      <td>22</td>\n",
       "      <td>501</td>\n",
       "      <td>10301.0</td>\n",
       "      <td>1.0</td>\n",
       "      <td>YES</td>\n",
       "      <td>HS</td>\n",
       "      <td>Not Available</td>\n",
       "      <td>OT</td>\n",
       "      <td>ISSUED</td>\n",
       "      <td>INITIAL</td>\n",
       "      <td>EW</td>\n",
       "      <td>1</td>\n",
       "      <td>OT</td>\n",
       "      <td>N</td>\n",
       "      <td>NOT APPLICABLE</td>\n",
       "      <td>05/10/2022</td>\n",
       "      <td>05/10/2022</td>\n",
       "      <td>10/01/2022</td>\n",
       "      <td>05/15/2022</td>\n",
       "      <td>PAUL</td>\n",
       "      <td>JOYCE</td>\n",
       "      <td>John Doe Inc</td>\n",
       "      <td>8.055408e+09</td>\n",
       "      <td>GC</td>\n",
       "      <td>0</td>\n",
       "      <td>N</td>\n",
       "      <td>Not Available</td>\n",
       "      <td>Not Available</td>\n",
       "      <td>Not Available</td>\n",
       "      <td>Not Available</td>\n",
       "      <td>Not Available</td>\n",
       "      <td>John Doe</td>\n",
       "      <td>John Doe Inc</td>\n",
       "      <td>INDIVIDUAL</td>\n",
       "      <td>N</td>\n",
       "      <td>John Doe Inc</td>\n",
       "      <td>SANTO</td>\n",
       "      <td>CEBALLOS</td>\n",
       "      <td>-1</td>\n",
       "      <td>Missing street name</td>\n",
       "      <td>Not Available</td>\n",
       "      <td>Not Available</td>\n",
       "      <td>0.0</td>\n",
       "      <td>7.188126e+09</td>\n",
       "      <td>2022-05-11</td>\n",
       "      <td>3905853</td>\n",
       "      <td>40.639633</td>\n",
       "      <td>-74.094169</td>\n",
       "      <td>49.0</td>\n",
       "      <td>81.0</td>\n",
       "      <td>West New Brighton-New Brighton-St. George</td>\n",
       "      <td>217_40.639633_-74.094169</td>\n",
       "      <td>10301.0-64-22</td>\n",
       "      <td>SANTO-CEBALLOS-7188125847.0</td>\n",
       "    </tr>\n",
       "    <tr>\n",
       "      <th>3</th>\n",
       "      <td>STATEN ISLAND</td>\n",
       "      <td>5067021</td>\n",
       "      <td>170</td>\n",
       "      <td>OAKDALE STREET</td>\n",
       "      <td>540218600</td>\n",
       "      <td>1</td>\n",
       "      <td>A2</td>\n",
       "      <td>Y</td>\n",
       "      <td>5260</td>\n",
       "      <td>1</td>\n",
       "      <td>503</td>\n",
       "      <td>10308.0</td>\n",
       "      <td>1.0</td>\n",
       "      <td>YES</td>\n",
       "      <td>SRD</td>\n",
       "      <td>Not Available</td>\n",
       "      <td>OT</td>\n",
       "      <td>ISSUED</td>\n",
       "      <td>INITIAL</td>\n",
       "      <td>EW</td>\n",
       "      <td>1</td>\n",
       "      <td>OT</td>\n",
       "      <td>N</td>\n",
       "      <td>NOT APPLICABLE</td>\n",
       "      <td>05/10/2022</td>\n",
       "      <td>05/10/2022</td>\n",
       "      <td>10/01/2022</td>\n",
       "      <td>05/15/2022</td>\n",
       "      <td>PAUL</td>\n",
       "      <td>JOYCE</td>\n",
       "      <td>John Doe Inc</td>\n",
       "      <td>8.055408e+09</td>\n",
       "      <td>GC</td>\n",
       "      <td>0</td>\n",
       "      <td>N</td>\n",
       "      <td>Not Available</td>\n",
       "      <td>Not Available</td>\n",
       "      <td>Not Available</td>\n",
       "      <td>Not Available</td>\n",
       "      <td>Not Available</td>\n",
       "      <td>John Doe</td>\n",
       "      <td>John Doe Inc</td>\n",
       "      <td>INDIVIDUAL</td>\n",
       "      <td>N</td>\n",
       "      <td>John Doe Inc</td>\n",
       "      <td>JOANNA</td>\n",
       "      <td>GIANGRANDE</td>\n",
       "      <td>-1</td>\n",
       "      <td>Missing street name</td>\n",
       "      <td>Not Available</td>\n",
       "      <td>Not Available</td>\n",
       "      <td>0.0</td>\n",
       "      <td>3.478576e+09</td>\n",
       "      <td>2022-05-11</td>\n",
       "      <td>3905854</td>\n",
       "      <td>40.544597</td>\n",
       "      <td>-74.157153</td>\n",
       "      <td>51.0</td>\n",
       "      <td>15601.0</td>\n",
       "      <td>Great Kills</td>\n",
       "      <td>170_40.544597_-74.157153</td>\n",
       "      <td>10308.0-5260-1</td>\n",
       "      <td>JOANNA-GIANGRANDE-3478575846.0</td>\n",
       "    </tr>\n",
       "    <tr>\n",
       "      <th>4</th>\n",
       "      <td>STATEN ISLAND</td>\n",
       "      <td>5058036</td>\n",
       "      <td>273</td>\n",
       "      <td>10 STREET</td>\n",
       "      <td>540218628</td>\n",
       "      <td>1</td>\n",
       "      <td>A2</td>\n",
       "      <td>Y</td>\n",
       "      <td>4242</td>\n",
       "      <td>45</td>\n",
       "      <td>502</td>\n",
       "      <td>10306.0</td>\n",
       "      <td>1.0</td>\n",
       "      <td>YES</td>\n",
       "      <td>Not Available</td>\n",
       "      <td>Not Available</td>\n",
       "      <td>OT</td>\n",
       "      <td>ISSUED</td>\n",
       "      <td>INITIAL</td>\n",
       "      <td>EW</td>\n",
       "      <td>1</td>\n",
       "      <td>OT</td>\n",
       "      <td>N</td>\n",
       "      <td>NOT APPLICABLE</td>\n",
       "      <td>05/10/2022</td>\n",
       "      <td>05/10/2022</td>\n",
       "      <td>11/15/2022</td>\n",
       "      <td>05/24/2022</td>\n",
       "      <td>ALEXANDER</td>\n",
       "      <td>YACKERY</td>\n",
       "      <td>John Doe Inc</td>\n",
       "      <td>7.183982e+09</td>\n",
       "      <td>GC</td>\n",
       "      <td>0</td>\n",
       "      <td>N</td>\n",
       "      <td>Not Available</td>\n",
       "      <td>Not Available</td>\n",
       "      <td>Not Available</td>\n",
       "      <td>Not Available</td>\n",
       "      <td>Not Available</td>\n",
       "      <td>John Doe</td>\n",
       "      <td>John Doe Inc</td>\n",
       "      <td>INDIVIDUAL</td>\n",
       "      <td>N</td>\n",
       "      <td>John Doe Inc</td>\n",
       "      <td>ARKADLY</td>\n",
       "      <td>FRIDMAN</td>\n",
       "      <td>-1</td>\n",
       "      <td>Missing street name</td>\n",
       "      <td>Not Available</td>\n",
       "      <td>Not Available</td>\n",
       "      <td>0.0</td>\n",
       "      <td>7.186196e+09</td>\n",
       "      <td>2022-05-11</td>\n",
       "      <td>3905855</td>\n",
       "      <td>40.566798</td>\n",
       "      <td>-74.119726</td>\n",
       "      <td>50.0</td>\n",
       "      <td>134.0</td>\n",
       "      <td>New Dorp-Midland Beach</td>\n",
       "      <td>273_40.566798_-74.119726</td>\n",
       "      <td>10306.0-4242-45</td>\n",
       "      <td>ARKADLY-FRIDMAN-7186195891.0</td>\n",
       "    </tr>\n",
       "  </tbody>\n",
       "</table>\n",
       "</div>"
      ],
      "text/plain": [
       "         borough    bin__ house__       street_name      job__  job_doc___  \\\n",
       "0      MANHATTAN  1088749       1       MADISON AVE  141008987           1   \n",
       "1  STATEN ISLAND  5076937      87     BOYLAN STREET  540218539           1   \n",
       "2  STATEN ISLAND  5001506     217  LAFAYETTE AVENUE  540218575           1   \n",
       "3  STATEN ISLAND  5067021     170    OAKDALE STREET  540218600           1   \n",
       "4  STATEN ISLAND  5058036     273         10 STREET  540218628           1   \n",
       "\n",
       "  job_type self_cert  block  lot  community_board  zip_code  bldg_type  \\\n",
       "0       A3         Y    853    2              105   10010.0        2.0   \n",
       "1       A2         Y   5687   66              503   10312.0        1.0   \n",
       "2       A2         Y     64   22              501   10301.0        1.0   \n",
       "3       A2         Y   5260    1              503   10308.0        1.0   \n",
       "4       A2         Y   4242   45              502   10306.0        1.0   \n",
       "\n",
       "  residential special_district_1 special_district_2 work_type permit_status  \\\n",
       "0           N      Not Available      Not Available        EQ        ISSUED   \n",
       "1         YES                SRD      Not Available        OT        ISSUED   \n",
       "2         YES                 HS      Not Available        OT        ISSUED   \n",
       "3         YES                SRD      Not Available        OT        ISSUED   \n",
       "4         YES      Not Available      Not Available        OT        ISSUED   \n",
       "\n",
       "  filing_status permit_type  permit_sequence__ permit_subtype oil_gas  \\\n",
       "0       INITIAL          EQ                  1             OT       N   \n",
       "1       INITIAL          EW                  1             OT       N   \n",
       "2       INITIAL          EW                  1             OT       N   \n",
       "3       INITIAL          EW                  1             OT       N   \n",
       "4       INITIAL          EW                  1             OT       N   \n",
       "\n",
       "        site_fill filing_date issuance_date expiration_date job_start_date  \\\n",
       "0   Not Available  05/10/2022    05/10/2022      05/10/2023     05/10/2022   \n",
       "1  NOT APPLICABLE  05/10/2022    05/10/2022      10/01/2022     05/12/2022   \n",
       "2  NOT APPLICABLE  05/10/2022    05/10/2022      10/01/2022     05/15/2022   \n",
       "3  NOT APPLICABLE  05/10/2022    05/10/2022      10/01/2022     05/15/2022   \n",
       "4  NOT APPLICABLE  05/10/2022    05/10/2022      11/15/2022     05/24/2022   \n",
       "\n",
       "  permittee_s_first_name permittee_s_last_name permittee_s_business_name  \\\n",
       "0                FRANKIE              COLLETTA              John Doe Inc   \n",
       "1                   PAUL                 JOYCE              John Doe Inc   \n",
       "2                   PAUL                 JOYCE              John Doe Inc   \n",
       "3                   PAUL                 JOYCE              John Doe Inc   \n",
       "4              ALEXANDER               YACKERY              John Doe Inc   \n",
       "\n",
       "   permittee_s_phone__ permittee_s_license_type  permittee_s_license__  \\\n",
       "0         2.122441e+09                       GC                      0   \n",
       "1         8.055408e+09                       GC                      0   \n",
       "2         8.055408e+09                       GC                      0   \n",
       "3         8.055408e+09                       GC                      0   \n",
       "4         7.183982e+09                       GC                      0   \n",
       "\n",
       "  act_as_superintendent permittee_s_other_title    hic_license  \\\n",
       "0                     N           Not Available  Not Available   \n",
       "1                     N           Not Available  Not Available   \n",
       "2                     N           Not Available  Not Available   \n",
       "3                     N           Not Available  Not Available   \n",
       "4                     N           Not Available  Not Available   \n",
       "\n",
       "  site_safety_mgr_s_first_name site_safety_mgr_s_last_name  \\\n",
       "0                Not Available               Not Available   \n",
       "1                Not Available               Not Available   \n",
       "2                Not Available               Not Available   \n",
       "3                Not Available               Not Available   \n",
       "4                Not Available               Not Available   \n",
       "\n",
       "  site_safety_mgr_business_name superintendent_first___last_name  \\\n",
       "0                 Not Available                         John Doe   \n",
       "1                 Not Available                         John Doe   \n",
       "2                 Not Available                         John Doe   \n",
       "3                 Not Available                         John Doe   \n",
       "4                 Not Available                         John Doe   \n",
       "\n",
       "  superintendent_business_name owner_s_business_type non_profit  \\\n",
       "0                 John Doe Inc           CORPORATION          N   \n",
       "1                 John Doe Inc            INDIVIDUAL          N   \n",
       "2                 John Doe Inc            INDIVIDUAL          N   \n",
       "3                 John Doe Inc            INDIVIDUAL          N   \n",
       "4                 John Doe Inc            INDIVIDUAL          N   \n",
       "\n",
       "  owner_s_business_name owner_s_first_name owner_s_last_name owner_s_house__  \\\n",
       "0          John Doe Inc               JOHN             KRUSH              -1   \n",
       "1          John Doe Inc             STEVEN           MONTANA              -1   \n",
       "2          John Doe Inc              SANTO          CEBALLOS              -1   \n",
       "3          John Doe Inc             JOANNA        GIANGRANDE              -1   \n",
       "4          John Doe Inc            ARKADLY           FRIDMAN              -1   \n",
       "\n",
       "  owner_s_house_street_name           city          state  owner_s_zip_code  \\\n",
       "0       Missing street name  Not Available  Not Available               0.0   \n",
       "1       Missing street name  Not Available  Not Available               0.0   \n",
       "2       Missing street name  Not Available  Not Available               0.0   \n",
       "3       Missing street name  Not Available  Not Available               0.0   \n",
       "4       Missing street name  Not Available  Not Available               0.0   \n",
       "\n",
       "   owner_s_phone__  dobrundate  permit_si_no  gis_latitude  gis_longitude  \\\n",
       "0     2.125943e+09  2022-05-11       3905851     40.740909     -73.987947   \n",
       "1     9.174202e+09  2022-05-11       3905852     40.563654     -74.179584   \n",
       "2     7.188126e+09  2022-05-11       3905853     40.639633     -74.094169   \n",
       "3     3.478576e+09  2022-05-11       3905854     40.544597     -74.157153   \n",
       "4     7.186196e+09  2022-05-11       3905855     40.566798     -74.119726   \n",
       "\n",
       "  gis_council_district gis_census_tract  \\\n",
       "0                  2.0             56.0   \n",
       "1                 51.0          17008.0   \n",
       "2                 49.0             81.0   \n",
       "3                 51.0          15601.0   \n",
       "4                 50.0            134.0   \n",
       "\n",
       "                                 gis_nta_name                  house_id  \\\n",
       "0  Hudson Yards-Chelsea-Flatiron-Union Square    1_40.740909_-73.987947   \n",
       "1                               Arden Heights   87_40.563654_-74.179584   \n",
       "2   West New Brighton-New Brighton-St. George  217_40.639633_-74.094169   \n",
       "3                                 Great Kills  170_40.544597_-74.157153   \n",
       "4                      New Dorp-Midland Beach  273_40.566798_-74.119726   \n",
       "\n",
       "       location_id                        owner_id  \n",
       "0    10010.0-853-2         JOHN-KRUSH-2125942700.0  \n",
       "1  10312.0-5687-66     STEVEN-MONTANA-9174201655.0  \n",
       "2    10301.0-64-22     SANTO-CEBALLOS-7188125847.0  \n",
       "3   10308.0-5260-1  JOANNA-GIANGRANDE-3478575846.0  \n",
       "4  10306.0-4242-45    ARKADLY-FRIDMAN-7186195891.0  "
      ]
     },
     "execution_count": 1,
     "metadata": {},
     "output_type": "execute_result"
    }
   ],
   "source": [
    "import datetime\n",
    "\n",
    "import pandas as pd\n",
    "\n",
    "import great_expectations as gx\n",
    "import great_expectations.jupyter_ux\n",
    "from great_expectations.core.batch import BatchRequest\n",
    "from great_expectations.checkpoint import SimpleCheckpoint\n",
    "from great_expectations.exceptions import DataContextError\n",
    "\n",
    "context = gx.get_context()\n",
    "\n",
    "# Note that if you modify this batch request, you may save the new version as a .json file\n",
    "#  to pass in later via the --batch-request option\n",
    "batch_request = {'datasource_name': 'small_clean', 'data_connector_name': 'default_inferred_data_connector_name', 'data_asset_name': 'small_clean.csv', 'limit': 1000}\n",
    "\n",
    "\n",
    "# Feel free to change the name of your suite here. Renaming this will not remove the other one.\n",
    "expectation_suite_name = \"small_clean_suite\"\n",
    "try:\n",
    "    suite = context.get_expectation_suite(expectation_suite_name=expectation_suite_name)\n",
    "    print(f'Loaded ExpectationSuite \"{suite.expectation_suite_name}\" containing {len(suite.expectations)} expectations.')\n",
    "except DataContextError:\n",
    "    suite = context.add_expectation_suite(expectation_suite_name=expectation_suite_name)\n",
    "    print(f'Created ExpectationSuite \"{suite.expectation_suite_name}\".')\n",
    "\n",
    "\n",
    "validator = context.get_validator(\n",
    "    batch_request=BatchRequest(**batch_request),\n",
    "    expectation_suite_name=expectation_suite_name\n",
    ")\n",
    "column_names = [f'\"{column_name}\"' for column_name in validator.columns()]\n",
    "print(f\"Columns: {', '.join(column_names)}.\")\n",
    "validator.head(n_rows=5, fetch_all=False)"
   ]
  },
  {
   "cell_type": "markdown",
   "id": "a4f01915",
   "metadata": {},
   "source": [
    "## Create & Edit Expectations\n",
    "\n",
    "\n",
    "Add expectations by calling specific expectation methods on the `validator` object. They all begin with `.expect_` which makes autocompleting easy using tab.\n",
    "\n",
    "Because you selected interactive mode, you are now creating or editing an Expectation Suite with validator feedback from the sample batch of data that you specified (see `batch_request`).\n",
    "\n",
    "Note that if you select manual mode you may still create or edit an Expectation Suite directly, without feedback from the `validator`. See our documentation for more info and examples: [How to create a new Expectation Suite without a sample batch](https://docs.greatexpectations.io/docs/guides/expectations/how_to_create_and_edit_expectations_based_on_domain_knowledge_without_inspecting_data_directly).\n",
    "\n",
    "\n",
    "\n",
    "You can see all the available expectations in the **[expectation gallery](https://greatexpectations.io/expectations)**."
   ]
  },
  {
   "cell_type": "markdown",
   "id": "ce4d7a50",
   "metadata": {},
   "source": [
    "### Table Expectation(s)"
   ]
  },
  {
   "cell_type": "markdown",
   "id": "785213df",
   "metadata": {},
   "source": [
    "No table level expectations are in this suite. Feel free to add some here.\n",
    "\n",
    "They all begin with `validator.expect_table_...`.\n"
   ]
  },
  {
   "cell_type": "markdown",
   "id": "9462a48e",
   "metadata": {},
   "source": [
    "### Column Expectation(s)"
   ]
  },
  {
   "cell_type": "markdown",
   "id": "dfda7d25",
   "metadata": {},
   "source": [
    "No column level expectations are in this suite. Feel free to add some here.\n",
    "\n",
    "They all begin with`validator.expect_column_...`.\n"
   ]
  },
  {
   "cell_type": "code",
   "execution_count": 2,
   "id": "e7899fef",
   "metadata": {},
   "outputs": [
    {
     "data": {
      "application/vnd.jupyter.widget-view+json": {
       "model_id": "f5aca89f8f3a4122b4f420037ac31445",
       "version_major": 2,
       "version_minor": 0
      },
      "text/plain": [
       "Calculating Metrics:   0%|          | 0/6 [00:00<?, ?it/s]"
      ]
     },
     "metadata": {},
     "output_type": "display_data"
    },
    {
     "data": {
      "application/vnd.jupyter.widget-view+json": {
       "model_id": "091b2ab99f6247a188bbf6f23c33688c",
       "version_major": 2,
       "version_minor": 0
      },
      "text/plain": [
       "Calculating Metrics:   0%|          | 0/6 [00:00<?, ?it/s]"
      ]
     },
     "metadata": {},
     "output_type": "display_data"
    },
    {
     "data": {
      "application/vnd.jupyter.widget-view+json": {
       "model_id": "7378dacb01dd47afae5869480b1e03fd",
       "version_major": 2,
       "version_minor": 0
      },
      "text/plain": [
       "Calculating Metrics:   0%|          | 0/6 [00:00<?, ?it/s]"
      ]
     },
     "metadata": {},
     "output_type": "display_data"
    },
    {
     "data": {
      "application/vnd.jupyter.widget-view+json": {
       "model_id": "eec70a70070947e8ac4ac3def806b28d",
       "version_major": 2,
       "version_minor": 0
      },
      "text/plain": [
       "Calculating Metrics:   0%|          | 0/6 [00:00<?, ?it/s]"
      ]
     },
     "metadata": {},
     "output_type": "display_data"
    },
    {
     "data": {
      "application/vnd.jupyter.widget-view+json": {
       "model_id": "1d17ce3132a14518ad80fa4304cd6795",
       "version_major": 2,
       "version_minor": 0
      },
      "text/plain": [
       "Calculating Metrics:   0%|          | 0/6 [00:00<?, ?it/s]"
      ]
     },
     "metadata": {},
     "output_type": "display_data"
    },
    {
     "data": {
      "application/vnd.jupyter.widget-view+json": {
       "model_id": "aee3ffa0d4934c4cacf6b4d1ec11d48b",
       "version_major": 2,
       "version_minor": 0
      },
      "text/plain": [
       "Calculating Metrics:   0%|          | 0/6 [00:00<?, ?it/s]"
      ]
     },
     "metadata": {},
     "output_type": "display_data"
    },
    {
     "data": {
      "application/vnd.jupyter.widget-view+json": {
       "model_id": "7e7b9c66581e43bc940a0355a6581b98",
       "version_major": 2,
       "version_minor": 0
      },
      "text/plain": [
       "Calculating Metrics:   0%|          | 0/6 [00:00<?, ?it/s]"
      ]
     },
     "metadata": {},
     "output_type": "display_data"
    },
    {
     "data": {
      "application/vnd.jupyter.widget-view+json": {
       "model_id": "74bf775c12274c889ec1b71e8cc40053",
       "version_major": 2,
       "version_minor": 0
      },
      "text/plain": [
       "Calculating Metrics:   0%|          | 0/6 [00:00<?, ?it/s]"
      ]
     },
     "metadata": {},
     "output_type": "display_data"
    },
    {
     "data": {
      "application/vnd.jupyter.widget-view+json": {
       "model_id": "f9e4ccceb00c49bc8ed20a4c0e303646",
       "version_major": 2,
       "version_minor": 0
      },
      "text/plain": [
       "Calculating Metrics:   0%|          | 0/6 [00:00<?, ?it/s]"
      ]
     },
     "metadata": {},
     "output_type": "display_data"
    },
    {
     "data": {
      "application/vnd.jupyter.widget-view+json": {
       "model_id": "85ceb594e48647cf8eba9b6bccfafdfc",
       "version_major": 2,
       "version_minor": 0
      },
      "text/plain": [
       "Calculating Metrics:   0%|          | 0/6 [00:00<?, ?it/s]"
      ]
     },
     "metadata": {},
     "output_type": "display_data"
    },
    {
     "data": {
      "application/vnd.jupyter.widget-view+json": {
       "model_id": "29c0d4adcf384d3086bf6f5209c3d5fd",
       "version_major": 2,
       "version_minor": 0
      },
      "text/plain": [
       "Calculating Metrics:   0%|          | 0/6 [00:00<?, ?it/s]"
      ]
     },
     "metadata": {},
     "output_type": "display_data"
    },
    {
     "data": {
      "application/vnd.jupyter.widget-view+json": {
       "model_id": "8e609fca08d444aa961de94327e460ae",
       "version_major": 2,
       "version_minor": 0
      },
      "text/plain": [
       "Calculating Metrics:   0%|          | 0/6 [00:00<?, ?it/s]"
      ]
     },
     "metadata": {},
     "output_type": "display_data"
    },
    {
     "data": {
      "application/vnd.jupyter.widget-view+json": {
       "model_id": "53896163b56245e58f81beb836cd602d",
       "version_major": 2,
       "version_minor": 0
      },
      "text/plain": [
       "Calculating Metrics:   0%|          | 0/6 [00:00<?, ?it/s]"
      ]
     },
     "metadata": {},
     "output_type": "display_data"
    },
    {
     "data": {
      "application/vnd.jupyter.widget-view+json": {
       "model_id": "ba9d559e4ce84f31a841d34ad15f2c92",
       "version_major": 2,
       "version_minor": 0
      },
      "text/plain": [
       "Calculating Metrics:   0%|          | 0/6 [00:00<?, ?it/s]"
      ]
     },
     "metadata": {},
     "output_type": "display_data"
    },
    {
     "data": {
      "application/vnd.jupyter.widget-view+json": {
       "model_id": "04b14b2f123c4eeba0fc8da6e3136d26",
       "version_major": 2,
       "version_minor": 0
      },
      "text/plain": [
       "Calculating Metrics:   0%|          | 0/6 [00:00<?, ?it/s]"
      ]
     },
     "metadata": {},
     "output_type": "display_data"
    },
    {
     "data": {
      "application/vnd.jupyter.widget-view+json": {
       "model_id": "14cdfff1294f48338a9bfbebc8288187",
       "version_major": 2,
       "version_minor": 0
      },
      "text/plain": [
       "Calculating Metrics:   0%|          | 0/6 [00:00<?, ?it/s]"
      ]
     },
     "metadata": {},
     "output_type": "display_data"
    },
    {
     "data": {
      "application/vnd.jupyter.widget-view+json": {
       "model_id": "fc8b7d9bb2cc43bab9406de061defff7",
       "version_major": 2,
       "version_minor": 0
      },
      "text/plain": [
       "Calculating Metrics:   0%|          | 0/6 [00:00<?, ?it/s]"
      ]
     },
     "metadata": {},
     "output_type": "display_data"
    },
    {
     "data": {
      "application/vnd.jupyter.widget-view+json": {
       "model_id": "b068ee952a6a4bdf91785787b7c1bf7f",
       "version_major": 2,
       "version_minor": 0
      },
      "text/plain": [
       "Calculating Metrics:   0%|          | 0/6 [00:00<?, ?it/s]"
      ]
     },
     "metadata": {},
     "output_type": "display_data"
    },
    {
     "data": {
      "application/vnd.jupyter.widget-view+json": {
       "model_id": "53cad34986c540f7a3cb516d50d3cafd",
       "version_major": 2,
       "version_minor": 0
      },
      "text/plain": [
       "Calculating Metrics:   0%|          | 0/6 [00:00<?, ?it/s]"
      ]
     },
     "metadata": {},
     "output_type": "display_data"
    },
    {
     "data": {
      "application/vnd.jupyter.widget-view+json": {
       "model_id": "c002fb57b0894965b9f701a8010f1186",
       "version_major": 2,
       "version_minor": 0
      },
      "text/plain": [
       "Calculating Metrics:   0%|          | 0/6 [00:00<?, ?it/s]"
      ]
     },
     "metadata": {},
     "output_type": "display_data"
    },
    {
     "data": {
      "application/vnd.jupyter.widget-view+json": {
       "model_id": "b8938d80c14a4b0e9fa98af5cc3adc6f",
       "version_major": 2,
       "version_minor": 0
      },
      "text/plain": [
       "Calculating Metrics:   0%|          | 0/6 [00:00<?, ?it/s]"
      ]
     },
     "metadata": {},
     "output_type": "display_data"
    },
    {
     "data": {
      "application/vnd.jupyter.widget-view+json": {
       "model_id": "c6efcf94428c4d9a8d5b0d16643ef11e",
       "version_major": 2,
       "version_minor": 0
      },
      "text/plain": [
       "Calculating Metrics:   0%|          | 0/6 [00:00<?, ?it/s]"
      ]
     },
     "metadata": {},
     "output_type": "display_data"
    },
    {
     "data": {
      "application/vnd.jupyter.widget-view+json": {
       "model_id": "f4f23da3bf5d4d3abf11483fef44df90",
       "version_major": 2,
       "version_minor": 0
      },
      "text/plain": [
       "Calculating Metrics:   0%|          | 0/6 [00:00<?, ?it/s]"
      ]
     },
     "metadata": {},
     "output_type": "display_data"
    },
    {
     "data": {
      "application/vnd.jupyter.widget-view+json": {
       "model_id": "4f36cfbc55e94b9da07b79da163888a5",
       "version_major": 2,
       "version_minor": 0
      },
      "text/plain": [
       "Calculating Metrics:   0%|          | 0/6 [00:00<?, ?it/s]"
      ]
     },
     "metadata": {},
     "output_type": "display_data"
    },
    {
     "data": {
      "application/vnd.jupyter.widget-view+json": {
       "model_id": "6bab365a51bf4b05b466c6e25d1c84bc",
       "version_major": 2,
       "version_minor": 0
      },
      "text/plain": [
       "Calculating Metrics:   0%|          | 0/6 [00:00<?, ?it/s]"
      ]
     },
     "metadata": {},
     "output_type": "display_data"
    },
    {
     "data": {
      "application/vnd.jupyter.widget-view+json": {
       "model_id": "9f6ce03c2cd741529ae2934adf863fe4",
       "version_major": 2,
       "version_minor": 0
      },
      "text/plain": [
       "Calculating Metrics:   0%|          | 0/6 [00:00<?, ?it/s]"
      ]
     },
     "metadata": {},
     "output_type": "display_data"
    },
    {
     "data": {
      "application/vnd.jupyter.widget-view+json": {
       "model_id": "45332fb130114b75b5cd0f95a359a9e8",
       "version_major": 2,
       "version_minor": 0
      },
      "text/plain": [
       "Calculating Metrics:   0%|          | 0/6 [00:00<?, ?it/s]"
      ]
     },
     "metadata": {},
     "output_type": "display_data"
    },
    {
     "data": {
      "application/vnd.jupyter.widget-view+json": {
       "model_id": "f1796451686a41a783dfdf760ec32d41",
       "version_major": 2,
       "version_minor": 0
      },
      "text/plain": [
       "Calculating Metrics:   0%|          | 0/6 [00:00<?, ?it/s]"
      ]
     },
     "metadata": {},
     "output_type": "display_data"
    },
    {
     "data": {
      "application/vnd.jupyter.widget-view+json": {
       "model_id": "754ea02cea854b91891ce44cbca1d0c8",
       "version_major": 2,
       "version_minor": 0
      },
      "text/plain": [
       "Calculating Metrics:   0%|          | 0/6 [00:00<?, ?it/s]"
      ]
     },
     "metadata": {},
     "output_type": "display_data"
    },
    {
     "data": {
      "application/vnd.jupyter.widget-view+json": {
       "model_id": "39b692b19d4d45cc9797a210ceb1fbac",
       "version_major": 2,
       "version_minor": 0
      },
      "text/plain": [
       "Calculating Metrics:   0%|          | 0/6 [00:00<?, ?it/s]"
      ]
     },
     "metadata": {},
     "output_type": "display_data"
    },
    {
     "data": {
      "application/vnd.jupyter.widget-view+json": {
       "model_id": "031d50be266b4a81ba0e4dfcb573865a",
       "version_major": 2,
       "version_minor": 0
      },
      "text/plain": [
       "Calculating Metrics:   0%|          | 0/6 [00:00<?, ?it/s]"
      ]
     },
     "metadata": {},
     "output_type": "display_data"
    },
    {
     "data": {
      "application/vnd.jupyter.widget-view+json": {
       "model_id": "373b35797acc4a7996b7a0016e2ed956",
       "version_major": 2,
       "version_minor": 0
      },
      "text/plain": [
       "Calculating Metrics:   0%|          | 0/6 [00:00<?, ?it/s]"
      ]
     },
     "metadata": {},
     "output_type": "display_data"
    },
    {
     "data": {
      "application/vnd.jupyter.widget-view+json": {
       "model_id": "6cf62ffa160e42e69ae6b9446c66de92",
       "version_major": 2,
       "version_minor": 0
      },
      "text/plain": [
       "Calculating Metrics:   0%|          | 0/6 [00:00<?, ?it/s]"
      ]
     },
     "metadata": {},
     "output_type": "display_data"
    },
    {
     "data": {
      "application/vnd.jupyter.widget-view+json": {
       "model_id": "c95b3134abac42afab4e4de3a7b143ea",
       "version_major": 2,
       "version_minor": 0
      },
      "text/plain": [
       "Calculating Metrics:   0%|          | 0/6 [00:00<?, ?it/s]"
      ]
     },
     "metadata": {},
     "output_type": "display_data"
    },
    {
     "data": {
      "application/vnd.jupyter.widget-view+json": {
       "model_id": "7caa2131b8a74458aacabbf92e5ceb98",
       "version_major": 2,
       "version_minor": 0
      },
      "text/plain": [
       "Calculating Metrics:   0%|          | 0/6 [00:00<?, ?it/s]"
      ]
     },
     "metadata": {},
     "output_type": "display_data"
    },
    {
     "data": {
      "application/vnd.jupyter.widget-view+json": {
       "model_id": "ddc46f46c8da414692120fb094551a45",
       "version_major": 2,
       "version_minor": 0
      },
      "text/plain": [
       "Calculating Metrics:   0%|          | 0/6 [00:00<?, ?it/s]"
      ]
     },
     "metadata": {},
     "output_type": "display_data"
    },
    {
     "data": {
      "application/vnd.jupyter.widget-view+json": {
       "model_id": "f83987134a674f48b57b0a5487a66ab2",
       "version_major": 2,
       "version_minor": 0
      },
      "text/plain": [
       "Calculating Metrics:   0%|          | 0/6 [00:00<?, ?it/s]"
      ]
     },
     "metadata": {},
     "output_type": "display_data"
    },
    {
     "data": {
      "application/vnd.jupyter.widget-view+json": {
       "model_id": "f7e0a4fd93f74fbea9a4139aa9b81804",
       "version_major": 2,
       "version_minor": 0
      },
      "text/plain": [
       "Calculating Metrics:   0%|          | 0/6 [00:00<?, ?it/s]"
      ]
     },
     "metadata": {},
     "output_type": "display_data"
    },
    {
     "data": {
      "application/vnd.jupyter.widget-view+json": {
       "model_id": "2af44963ea5b404aba8fbfde45f20fb2",
       "version_major": 2,
       "version_minor": 0
      },
      "text/plain": [
       "Calculating Metrics:   0%|          | 0/6 [00:00<?, ?it/s]"
      ]
     },
     "metadata": {},
     "output_type": "display_data"
    },
    {
     "data": {
      "application/vnd.jupyter.widget-view+json": {
       "model_id": "6b7a700bda094aceb685129097a7127a",
       "version_major": 2,
       "version_minor": 0
      },
      "text/plain": [
       "Calculating Metrics:   0%|          | 0/6 [00:00<?, ?it/s]"
      ]
     },
     "metadata": {},
     "output_type": "display_data"
    },
    {
     "data": {
      "application/vnd.jupyter.widget-view+json": {
       "model_id": "d1babe980ac04a30a13602f02a70617c",
       "version_major": 2,
       "version_minor": 0
      },
      "text/plain": [
       "Calculating Metrics:   0%|          | 0/6 [00:00<?, ?it/s]"
      ]
     },
     "metadata": {},
     "output_type": "display_data"
    },
    {
     "data": {
      "application/vnd.jupyter.widget-view+json": {
       "model_id": "ce133065e1a144588de14d98fa57e816",
       "version_major": 2,
       "version_minor": 0
      },
      "text/plain": [
       "Calculating Metrics:   0%|          | 0/6 [00:00<?, ?it/s]"
      ]
     },
     "metadata": {},
     "output_type": "display_data"
    },
    {
     "data": {
      "application/vnd.jupyter.widget-view+json": {
       "model_id": "f164a750cd664f829d578de5ba49b873",
       "version_major": 2,
       "version_minor": 0
      },
      "text/plain": [
       "Calculating Metrics:   0%|          | 0/6 [00:00<?, ?it/s]"
      ]
     },
     "metadata": {},
     "output_type": "display_data"
    },
    {
     "data": {
      "application/vnd.jupyter.widget-view+json": {
       "model_id": "01e9af2072a24584b2d5eadb37ae0315",
       "version_major": 2,
       "version_minor": 0
      },
      "text/plain": [
       "Calculating Metrics:   0%|          | 0/6 [00:00<?, ?it/s]"
      ]
     },
     "metadata": {},
     "output_type": "display_data"
    },
    {
     "data": {
      "application/vnd.jupyter.widget-view+json": {
       "model_id": "3662a9d06304414183a34e1d6d44c5ea",
       "version_major": 2,
       "version_minor": 0
      },
      "text/plain": [
       "Calculating Metrics:   0%|          | 0/6 [00:00<?, ?it/s]"
      ]
     },
     "metadata": {},
     "output_type": "display_data"
    },
    {
     "data": {
      "application/vnd.jupyter.widget-view+json": {
       "model_id": "b027879ccb4842a48fc5d92444c3bbbe",
       "version_major": 2,
       "version_minor": 0
      },
      "text/plain": [
       "Calculating Metrics:   0%|          | 0/6 [00:00<?, ?it/s]"
      ]
     },
     "metadata": {},
     "output_type": "display_data"
    },
    {
     "data": {
      "application/vnd.jupyter.widget-view+json": {
       "model_id": "cfa89a6216ec47b79af83f2906000c90",
       "version_major": 2,
       "version_minor": 0
      },
      "text/plain": [
       "Calculating Metrics:   0%|          | 0/6 [00:00<?, ?it/s]"
      ]
     },
     "metadata": {},
     "output_type": "display_data"
    },
    {
     "data": {
      "application/vnd.jupyter.widget-view+json": {
       "model_id": "379d18f4fcac404fac04cf899a60a792",
       "version_major": 2,
       "version_minor": 0
      },
      "text/plain": [
       "Calculating Metrics:   0%|          | 0/6 [00:00<?, ?it/s]"
      ]
     },
     "metadata": {},
     "output_type": "display_data"
    },
    {
     "data": {
      "application/vnd.jupyter.widget-view+json": {
       "model_id": "c37c03800b55428abb99a5219e2668bd",
       "version_major": 2,
       "version_minor": 0
      },
      "text/plain": [
       "Calculating Metrics:   0%|          | 0/6 [00:00<?, ?it/s]"
      ]
     },
     "metadata": {},
     "output_type": "display_data"
    },
    {
     "data": {
      "application/vnd.jupyter.widget-view+json": {
       "model_id": "58038250579946d1b57f7ba3380593c9",
       "version_major": 2,
       "version_minor": 0
      },
      "text/plain": [
       "Calculating Metrics:   0%|          | 0/6 [00:00<?, ?it/s]"
      ]
     },
     "metadata": {},
     "output_type": "display_data"
    },
    {
     "data": {
      "application/vnd.jupyter.widget-view+json": {
       "model_id": "1fb47aec293c4f79a15b67c0ca0e7520",
       "version_major": 2,
       "version_minor": 0
      },
      "text/plain": [
       "Calculating Metrics:   0%|          | 0/6 [00:00<?, ?it/s]"
      ]
     },
     "metadata": {},
     "output_type": "display_data"
    },
    {
     "data": {
      "application/vnd.jupyter.widget-view+json": {
       "model_id": "6053d0404577414491ee1da267f4f80e",
       "version_major": 2,
       "version_minor": 0
      },
      "text/plain": [
       "Calculating Metrics:   0%|          | 0/6 [00:00<?, ?it/s]"
      ]
     },
     "metadata": {},
     "output_type": "display_data"
    },
    {
     "data": {
      "application/vnd.jupyter.widget-view+json": {
       "model_id": "5093ba53a96a40d1a427f22172b7ba8d",
       "version_major": 2,
       "version_minor": 0
      },
      "text/plain": [
       "Calculating Metrics:   0%|          | 0/6 [00:00<?, ?it/s]"
      ]
     },
     "metadata": {},
     "output_type": "display_data"
    },
    {
     "data": {
      "application/vnd.jupyter.widget-view+json": {
       "model_id": "b0df72bf3599453fb2a9bf6c1fd642dd",
       "version_major": 2,
       "version_minor": 0
      },
      "text/plain": [
       "Calculating Metrics:   0%|          | 0/6 [00:00<?, ?it/s]"
      ]
     },
     "metadata": {},
     "output_type": "display_data"
    },
    {
     "data": {
      "application/vnd.jupyter.widget-view+json": {
       "model_id": "08501c328e5948079028faaf66ad5d17",
       "version_major": 2,
       "version_minor": 0
      },
      "text/plain": [
       "Calculating Metrics:   0%|          | 0/6 [00:00<?, ?it/s]"
      ]
     },
     "metadata": {},
     "output_type": "display_data"
    },
    {
     "data": {
      "application/vnd.jupyter.widget-view+json": {
       "model_id": "5461ddeaed6949e59e6068f6fe4ab1b5",
       "version_major": 2,
       "version_minor": 0
      },
      "text/plain": [
       "Calculating Metrics:   0%|          | 0/6 [00:00<?, ?it/s]"
      ]
     },
     "metadata": {},
     "output_type": "display_data"
    },
    {
     "data": {
      "application/vnd.jupyter.widget-view+json": {
       "model_id": "1d1f9d6f11834d239f0f864fddfab765",
       "version_major": 2,
       "version_minor": 0
      },
      "text/plain": [
       "Calculating Metrics:   0%|          | 0/6 [00:00<?, ?it/s]"
      ]
     },
     "metadata": {},
     "output_type": "display_data"
    },
    {
     "data": {
      "application/vnd.jupyter.widget-view+json": {
       "model_id": "1fa59036d9c4478d82e4751663d54027",
       "version_major": 2,
       "version_minor": 0
      },
      "text/plain": [
       "Calculating Metrics:   0%|          | 0/6 [00:00<?, ?it/s]"
      ]
     },
     "metadata": {},
     "output_type": "display_data"
    },
    {
     "data": {
      "application/vnd.jupyter.widget-view+json": {
       "model_id": "d54780126ead48558cd7b03cc129a561",
       "version_major": 2,
       "version_minor": 0
      },
      "text/plain": [
       "Calculating Metrics:   0%|          | 0/6 [00:00<?, ?it/s]"
      ]
     },
     "metadata": {},
     "output_type": "display_data"
    },
    {
     "data": {
      "application/vnd.jupyter.widget-view+json": {
       "model_id": "23ab60bf04f7497c999465fd203b4af9",
       "version_major": 2,
       "version_minor": 0
      },
      "text/plain": [
       "Calculating Metrics:   0%|          | 0/6 [00:00<?, ?it/s]"
      ]
     },
     "metadata": {},
     "output_type": "display_data"
    },
    {
     "data": {
      "application/vnd.jupyter.widget-view+json": {
       "model_id": "4d2a8e060cee41bda6f058c5a6288568",
       "version_major": 2,
       "version_minor": 0
      },
      "text/plain": [
       "Calculating Metrics:   0%|          | 0/6 [00:00<?, ?it/s]"
      ]
     },
     "metadata": {},
     "output_type": "display_data"
    },
    {
     "data": {
      "application/vnd.jupyter.widget-view+json": {
       "model_id": "8aca3037314347ffa9883eeb79dcb2ad",
       "version_major": 2,
       "version_minor": 0
      },
      "text/plain": [
       "Calculating Metrics:   0%|          | 0/6 [00:00<?, ?it/s]"
      ]
     },
     "metadata": {},
     "output_type": "display_data"
    },
    {
     "data": {
      "application/vnd.jupyter.widget-view+json": {
       "model_id": "a9d4feecf7e94f3685ea8a963e6cf59c",
       "version_major": 2,
       "version_minor": 0
      },
      "text/plain": [
       "Calculating Metrics:   0%|          | 0/6 [00:00<?, ?it/s]"
      ]
     },
     "metadata": {},
     "output_type": "display_data"
    },
    {
     "data": {
      "application/vnd.jupyter.widget-view+json": {
       "model_id": "b8b641989245493ebd107f4592f9a31a",
       "version_major": 2,
       "version_minor": 0
      },
      "text/plain": [
       "Calculating Metrics:   0%|          | 0/8 [00:00<?, ?it/s]"
      ]
     },
     "metadata": {},
     "output_type": "display_data"
    },
    {
     "data": {
      "application/vnd.jupyter.widget-view+json": {
       "model_id": "a7bab2297dc945c59edc55f47d928248",
       "version_major": 2,
       "version_minor": 0
      },
      "text/plain": [
       "Calculating Metrics:   0%|          | 0/8 [00:00<?, ?it/s]"
      ]
     },
     "metadata": {},
     "output_type": "display_data"
    },
    {
     "data": {
      "application/vnd.jupyter.widget-view+json": {
       "model_id": "ca893217c70244df88d0574ed0118ef7",
       "version_major": 2,
       "version_minor": 0
      },
      "text/plain": [
       "Calculating Metrics:   0%|          | 0/8 [00:00<?, ?it/s]"
      ]
     },
     "metadata": {},
     "output_type": "display_data"
    },
    {
     "data": {
      "application/vnd.jupyter.widget-view+json": {
       "model_id": "aa70b112ad8840d18900bf6fc26179ef",
       "version_major": 2,
       "version_minor": 0
      },
      "text/plain": [
       "Calculating Metrics:   0%|          | 0/8 [00:00<?, ?it/s]"
      ]
     },
     "metadata": {},
     "output_type": "display_data"
    },
    {
     "data": {
      "application/vnd.jupyter.widget-view+json": {
       "model_id": "bb91b44a2ec54286afdf0a1f93dd666c",
       "version_major": 2,
       "version_minor": 0
      },
      "text/plain": [
       "Calculating Metrics:   0%|          | 0/8 [00:00<?, ?it/s]"
      ]
     },
     "metadata": {},
     "output_type": "display_data"
    },
    {
     "data": {
      "text/plain": [
       "{\n",
       "  \"exception_info\": {\n",
       "    \"raised_exception\": false,\n",
       "    \"exception_traceback\": null,\n",
       "    \"exception_message\": null\n",
       "  },\n",
       "  \"meta\": {},\n",
       "  \"success\": true,\n",
       "  \"result\": {\n",
       "    \"element_count\": 1000,\n",
       "    \"unexpected_count\": 0,\n",
       "    \"unexpected_percent\": 0.0,\n",
       "    \"partial_unexpected_list\": [],\n",
       "    \"missing_count\": 0,\n",
       "    \"missing_percent\": 0.0,\n",
       "    \"unexpected_percent_total\": 0.0,\n",
       "    \"unexpected_percent_nonmissing\": 0.0\n",
       "  }\n",
       "}"
      ]
     },
     "execution_count": 2,
     "metadata": {},
     "output_type": "execute_result"
    }
   ],
   "source": [
    "validator.expect_column_values_to_not_be_null(column='bin__')\n",
    "validator.expect_column_values_to_not_be_null(column='borough')\n",
    "validator.expect_column_values_to_not_be_null(column='house__')\n",
    "validator.expect_column_values_to_not_be_null(column='street_name')\n",
    "validator.expect_column_values_to_not_be_null(column='job__')\n",
    "validator.expect_column_values_to_not_be_null(column='job_doc___')\n",
    "validator.expect_column_values_to_not_be_null(column='job_type')\n",
    "validator.expect_column_values_to_not_be_null(column='self_cert')\n",
    "validator.expect_column_values_to_not_be_null(column='block')\n",
    "validator.expect_column_values_to_not_be_null(column='lot')\n",
    "validator.expect_column_values_to_not_be_null(column='community_board')\n",
    "validator.expect_column_values_to_not_be_null(column='zip_code')\n",
    "validator.expect_column_values_to_not_be_null(column='bldg_type')\n",
    "validator.expect_column_values_to_not_be_null(column='residential')\n",
    "validator.expect_column_values_to_not_be_null(column='special_district_1')\n",
    "validator.expect_column_values_to_not_be_null(column='special_district_2')\n",
    "validator.expect_column_values_to_not_be_null(column='work_type')\n",
    "validator.expect_column_values_to_not_be_null(column='permit_status')\n",
    "validator.expect_column_values_to_not_be_null(column='filing_status')\n",
    "validator.expect_column_values_to_not_be_null(column='permit_type')\n",
    "validator.expect_column_values_to_not_be_null(column='permit_sequence__')\n",
    "validator.expect_column_values_to_not_be_null(column='permit_subtype')\n",
    "validator.expect_column_values_to_not_be_null(column='oil_gas')\n",
    "validator.expect_column_values_to_not_be_null(column='site_fill')\n",
    "validator.expect_column_values_to_not_be_null(column='filing_date')\n",
    "validator.expect_column_values_to_not_be_null(column='issuance_date')\n",
    "validator.expect_column_values_to_not_be_null(column='expiration_date')\n",
    "validator.expect_column_values_to_not_be_null(column='job_start_date')\n",
    "validator.expect_column_values_to_not_be_null(column='permittee_s_first_name')\n",
    "validator.expect_column_values_to_not_be_null(column='permittee_s_last_name')\n",
    "validator.expect_column_values_to_not_be_null(column='permittee_s_business_name')\n",
    "validator.expect_column_values_to_not_be_null(column='permittee_s_phone__')\n",
    "validator.expect_column_values_to_not_be_null(column='permittee_s_license_type')\n",
    "validator.expect_column_values_to_not_be_null(column='permittee_s_license__')\n",
    "validator.expect_column_values_to_not_be_null(column='act_as_superintendent')\n",
    "validator.expect_column_values_to_not_be_null(column='permittee_s_other_title')\n",
    "validator.expect_column_values_to_not_be_null(column='hic_license')\n",
    "validator.expect_column_values_to_not_be_null(column='site_safety_mgr_s_first_name')\n",
    "validator.expect_column_values_to_not_be_null(column='site_safety_mgr_s_last_name')\n",
    "validator.expect_column_values_to_not_be_null(column='site_safety_mgr_business_name')\n",
    "validator.expect_column_values_to_not_be_null(column='superintendent_first___last_name')\n",
    "validator.expect_column_values_to_not_be_null(column='superintendent_business_name')\n",
    "validator.expect_column_values_to_not_be_null(column='owner_s_business_type')\n",
    "validator.expect_column_values_to_not_be_null(column='non_profit')\n",
    "validator.expect_column_values_to_not_be_null(column='owner_s_business_name')\n",
    "validator.expect_column_values_to_not_be_null(column='owner_s_first_name')\n",
    "validator.expect_column_values_to_not_be_null(column='owner_s_last_name')\n",
    "validator.expect_column_values_to_not_be_null(column='owner_s_house__')\n",
    "validator.expect_column_values_to_not_be_null(column='owner_s_house_street_name')\n",
    "validator.expect_column_values_to_not_be_null(column='city')\n",
    "validator.expect_column_values_to_not_be_null(column='state')\n",
    "validator.expect_column_values_to_not_be_null(column='owner_s_zip_code')\n",
    "validator.expect_column_values_to_not_be_null(column='owner_s_phone__')\n",
    "validator.expect_column_values_to_not_be_null(column='dobrundate')\n",
    "validator.expect_column_values_to_not_be_null(column='permit_si_no')\n",
    "validator.expect_column_values_to_not_be_null(column='gis_latitude')\n",
    "validator.expect_column_values_to_not_be_null(column='gis_longitude')\n",
    "validator.expect_column_values_to_not_be_null(column='gis_council_district')\n",
    "validator.expect_column_values_to_not_be_null(column='gis_census_tract')\n",
    "validator.expect_column_values_to_not_be_null(column='gis_nta_name')\n",
    "validator.expect_column_values_to_not_be_null(column='house_id')\n",
    "validator.expect_column_values_to_not_be_null(column='location_id')\n",
    "validator.expect_column_values_to_not_be_null(column='owner_id')\n",
    "\n",
    "\n",
    "validator.expect_column_values_to_be_in_set(column='borough', value_set=['MANHATTAN', 'BRONX', 'QUEENS', 'BROOKLYN', 'STATEN ISLAND'])\n",
    "\n",
    "validator.expect_column_values_to_be_in_set(column='job_type', value_set=['A1', 'A2', 'A3','NB','DM','SG'])\n",
    "\n",
    "validator.expect_column_values_to_be_in_set(column='filing_status', value_set=[\"INITIAL\",\"RENEWAL\"])\n",
    "\n",
    "validator.expect_column_values_to_be_in_set(column='permit_status', value_set=[\"IN PROCESS\",\"ISSUED\",\"RE-ISSUED\",\"REVOKED\"])\n",
    "\n",
    "validator.expect_column_values_to_be_in_set(column='bldg_type', value_set=[1.0,2.0])\n"
   ]
  },
  {
   "cell_type": "markdown",
   "id": "de5c1636",
   "metadata": {},
   "source": [
    "## Review & Save Your Expectations\n",
    "\n",
    "Let's save the expectation suite as a JSON file in the `great_expectations/expectations` directory of your project.\n",
    "\n",
    "Let's now rebuild your Data Docs, which helps you communicate about your data with both machines and humans."
   ]
  },
  {
   "cell_type": "code",
   "execution_count": 3,
   "id": "6b8eb0ca",
   "metadata": {},
   "outputs": [
    {
     "name": "stdout",
     "output_type": "stream",
     "text": [
      "2023-04-21T00:39:39-0400 - INFO - \t68 expectation(s) included in expectation_suite.\n",
      "{\n",
      "  \"ge_cloud_id\": null,\n",
      "  \"expectations\": [\n",
      "    {\n",
      "      \"expectation_type\": \"expect_column_values_to_not_be_null\",\n",
      "      \"kwargs\": {\n",
      "        \"column\": \"bin__\"\n",
      "      },\n",
      "      \"meta\": {}\n",
      "    },\n",
      "    {\n",
      "      \"expectation_type\": \"expect_column_values_to_not_be_null\",\n",
      "      \"kwargs\": {\n",
      "        \"column\": \"borough\"\n",
      "      },\n",
      "      \"meta\": {}\n",
      "    },\n",
      "    {\n",
      "      \"expectation_type\": \"expect_column_values_to_not_be_null\",\n",
      "      \"kwargs\": {\n",
      "        \"column\": \"house__\"\n",
      "      },\n",
      "      \"meta\": {}\n",
      "    },\n",
      "    {\n",
      "      \"expectation_type\": \"expect_column_values_to_not_be_null\",\n",
      "      \"kwargs\": {\n",
      "        \"column\": \"street_name\"\n",
      "      },\n",
      "      \"meta\": {}\n",
      "    },\n",
      "    {\n",
      "      \"expectation_type\": \"expect_column_values_to_not_be_null\",\n",
      "      \"kwargs\": {\n",
      "        \"column\": \"job__\"\n",
      "      },\n",
      "      \"meta\": {}\n",
      "    },\n",
      "    {\n",
      "      \"expectation_type\": \"expect_column_values_to_not_be_null\",\n",
      "      \"kwargs\": {\n",
      "        \"column\": \"job_doc___\"\n",
      "      },\n",
      "      \"meta\": {}\n",
      "    },\n",
      "    {\n",
      "      \"expectation_type\": \"expect_column_values_to_not_be_null\",\n",
      "      \"kwargs\": {\n",
      "        \"column\": \"job_type\"\n",
      "      },\n",
      "      \"meta\": {}\n",
      "    },\n",
      "    {\n",
      "      \"expectation_type\": \"expect_column_values_to_not_be_null\",\n",
      "      \"kwargs\": {\n",
      "        \"column\": \"self_cert\"\n",
      "      },\n",
      "      \"meta\": {}\n",
      "    },\n",
      "    {\n",
      "      \"expectation_type\": \"expect_column_values_to_not_be_null\",\n",
      "      \"kwargs\": {\n",
      "        \"column\": \"block\"\n",
      "      },\n",
      "      \"meta\": {}\n",
      "    },\n",
      "    {\n",
      "      \"expectation_type\": \"expect_column_values_to_not_be_null\",\n",
      "      \"kwargs\": {\n",
      "        \"column\": \"lot\"\n",
      "      },\n",
      "      \"meta\": {}\n",
      "    },\n",
      "    {\n",
      "      \"expectation_type\": \"expect_column_values_to_not_be_null\",\n",
      "      \"kwargs\": {\n",
      "        \"column\": \"community_board\"\n",
      "      },\n",
      "      \"meta\": {}\n",
      "    },\n",
      "    {\n",
      "      \"expectation_type\": \"expect_column_values_to_not_be_null\",\n",
      "      \"kwargs\": {\n",
      "        \"column\": \"zip_code\"\n",
      "      },\n",
      "      \"meta\": {}\n",
      "    },\n",
      "    {\n",
      "      \"expectation_type\": \"expect_column_values_to_not_be_null\",\n",
      "      \"kwargs\": {\n",
      "        \"column\": \"bldg_type\"\n",
      "      },\n",
      "      \"meta\": {}\n",
      "    },\n",
      "    {\n",
      "      \"expectation_type\": \"expect_column_values_to_not_be_null\",\n",
      "      \"kwargs\": {\n",
      "        \"column\": \"residential\"\n",
      "      },\n",
      "      \"meta\": {}\n",
      "    },\n",
      "    {\n",
      "      \"expectation_type\": \"expect_column_values_to_not_be_null\",\n",
      "      \"kwargs\": {\n",
      "        \"column\": \"special_district_1\"\n",
      "      },\n",
      "      \"meta\": {}\n",
      "    },\n",
      "    {\n",
      "      \"expectation_type\": \"expect_column_values_to_not_be_null\",\n",
      "      \"kwargs\": {\n",
      "        \"column\": \"special_district_2\"\n",
      "      },\n",
      "      \"meta\": {}\n",
      "    },\n",
      "    {\n",
      "      \"expectation_type\": \"expect_column_values_to_not_be_null\",\n",
      "      \"kwargs\": {\n",
      "        \"column\": \"work_type\"\n",
      "      },\n",
      "      \"meta\": {}\n",
      "    },\n",
      "    {\n",
      "      \"expectation_type\": \"expect_column_values_to_not_be_null\",\n",
      "      \"kwargs\": {\n",
      "        \"column\": \"permit_status\"\n",
      "      },\n",
      "      \"meta\": {}\n",
      "    },\n",
      "    {\n",
      "      \"expectation_type\": \"expect_column_values_to_not_be_null\",\n",
      "      \"kwargs\": {\n",
      "        \"column\": \"filing_status\"\n",
      "      },\n",
      "      \"meta\": {}\n",
      "    },\n",
      "    {\n",
      "      \"expectation_type\": \"expect_column_values_to_not_be_null\",\n",
      "      \"kwargs\": {\n",
      "        \"column\": \"permit_type\"\n",
      "      },\n",
      "      \"meta\": {}\n",
      "    },\n",
      "    {\n",
      "      \"expectation_type\": \"expect_column_values_to_not_be_null\",\n",
      "      \"kwargs\": {\n",
      "        \"column\": \"permit_sequence__\"\n",
      "      },\n",
      "      \"meta\": {}\n",
      "    },\n",
      "    {\n",
      "      \"expectation_type\": \"expect_column_values_to_not_be_null\",\n",
      "      \"kwargs\": {\n",
      "        \"column\": \"permit_subtype\"\n",
      "      },\n",
      "      \"meta\": {}\n",
      "    },\n",
      "    {\n",
      "      \"expectation_type\": \"expect_column_values_to_not_be_null\",\n",
      "      \"kwargs\": {\n",
      "        \"column\": \"oil_gas\"\n",
      "      },\n",
      "      \"meta\": {}\n",
      "    },\n",
      "    {\n",
      "      \"expectation_type\": \"expect_column_values_to_not_be_null\",\n",
      "      \"kwargs\": {\n",
      "        \"column\": \"site_fill\"\n",
      "      },\n",
      "      \"meta\": {}\n",
      "    },\n",
      "    {\n",
      "      \"expectation_type\": \"expect_column_values_to_not_be_null\",\n",
      "      \"kwargs\": {\n",
      "        \"column\": \"filing_date\"\n",
      "      },\n",
      "      \"meta\": {}\n",
      "    },\n",
      "    {\n",
      "      \"expectation_type\": \"expect_column_values_to_not_be_null\",\n",
      "      \"kwargs\": {\n",
      "        \"column\": \"issuance_date\"\n",
      "      },\n",
      "      \"meta\": {}\n",
      "    },\n",
      "    {\n",
      "      \"expectation_type\": \"expect_column_values_to_not_be_null\",\n",
      "      \"kwargs\": {\n",
      "        \"column\": \"expiration_date\"\n",
      "      },\n",
      "      \"meta\": {}\n",
      "    },\n",
      "    {\n",
      "      \"expectation_type\": \"expect_column_values_to_not_be_null\",\n",
      "      \"kwargs\": {\n",
      "        \"column\": \"job_start_date\"\n",
      "      },\n",
      "      \"meta\": {}\n",
      "    },\n",
      "    {\n",
      "      \"expectation_type\": \"expect_column_values_to_not_be_null\",\n",
      "      \"kwargs\": {\n",
      "        \"column\": \"permittee_s_first_name\"\n",
      "      },\n",
      "      \"meta\": {}\n",
      "    },\n",
      "    {\n",
      "      \"expectation_type\": \"expect_column_values_to_not_be_null\",\n",
      "      \"kwargs\": {\n",
      "        \"column\": \"permittee_s_last_name\"\n",
      "      },\n",
      "      \"meta\": {}\n",
      "    },\n",
      "    {\n",
      "      \"expectation_type\": \"expect_column_values_to_not_be_null\",\n",
      "      \"kwargs\": {\n",
      "        \"column\": \"permittee_s_business_name\"\n",
      "      },\n",
      "      \"meta\": {}\n",
      "    },\n",
      "    {\n",
      "      \"expectation_type\": \"expect_column_values_to_not_be_null\",\n",
      "      \"kwargs\": {\n",
      "        \"column\": \"permittee_s_phone__\"\n",
      "      },\n",
      "      \"meta\": {}\n",
      "    },\n",
      "    {\n",
      "      \"expectation_type\": \"expect_column_values_to_not_be_null\",\n",
      "      \"kwargs\": {\n",
      "        \"column\": \"permittee_s_license_type\"\n",
      "      },\n",
      "      \"meta\": {}\n",
      "    },\n",
      "    {\n",
      "      \"expectation_type\": \"expect_column_values_to_not_be_null\",\n",
      "      \"kwargs\": {\n",
      "        \"column\": \"permittee_s_license__\"\n",
      "      },\n",
      "      \"meta\": {}\n",
      "    },\n",
      "    {\n",
      "      \"expectation_type\": \"expect_column_values_to_not_be_null\",\n",
      "      \"kwargs\": {\n",
      "        \"column\": \"act_as_superintendent\"\n",
      "      },\n",
      "      \"meta\": {}\n",
      "    },\n",
      "    {\n",
      "      \"expectation_type\": \"expect_column_values_to_not_be_null\",\n",
      "      \"kwargs\": {\n",
      "        \"column\": \"permittee_s_other_title\"\n",
      "      },\n",
      "      \"meta\": {}\n",
      "    },\n",
      "    {\n",
      "      \"expectation_type\": \"expect_column_values_to_not_be_null\",\n",
      "      \"kwargs\": {\n",
      "        \"column\": \"hic_license\"\n",
      "      },\n",
      "      \"meta\": {}\n",
      "    },\n",
      "    {\n",
      "      \"expectation_type\": \"expect_column_values_to_not_be_null\",\n",
      "      \"kwargs\": {\n",
      "        \"column\": \"site_safety_mgr_s_first_name\"\n",
      "      },\n",
      "      \"meta\": {}\n",
      "    },\n",
      "    {\n",
      "      \"expectation_type\": \"expect_column_values_to_not_be_null\",\n",
      "      \"kwargs\": {\n",
      "        \"column\": \"site_safety_mgr_s_last_name\"\n",
      "      },\n",
      "      \"meta\": {}\n",
      "    },\n",
      "    {\n",
      "      \"expectation_type\": \"expect_column_values_to_not_be_null\",\n",
      "      \"kwargs\": {\n",
      "        \"column\": \"site_safety_mgr_business_name\"\n",
      "      },\n",
      "      \"meta\": {}\n",
      "    },\n",
      "    {\n",
      "      \"expectation_type\": \"expect_column_values_to_not_be_null\",\n",
      "      \"kwargs\": {\n",
      "        \"column\": \"superintendent_first___last_name\"\n",
      "      },\n",
      "      \"meta\": {}\n",
      "    },\n",
      "    {\n",
      "      \"expectation_type\": \"expect_column_values_to_not_be_null\",\n",
      "      \"kwargs\": {\n",
      "        \"column\": \"superintendent_business_name\"\n",
      "      },\n",
      "      \"meta\": {}\n",
      "    },\n",
      "    {\n",
      "      \"expectation_type\": \"expect_column_values_to_not_be_null\",\n",
      "      \"kwargs\": {\n",
      "        \"column\": \"owner_s_business_type\"\n",
      "      },\n",
      "      \"meta\": {}\n",
      "    },\n",
      "    {\n",
      "      \"expectation_type\": \"expect_column_values_to_not_be_null\",\n",
      "      \"kwargs\": {\n",
      "        \"column\": \"non_profit\"\n",
      "      },\n",
      "      \"meta\": {}\n",
      "    },\n",
      "    {\n",
      "      \"expectation_type\": \"expect_column_values_to_not_be_null\",\n",
      "      \"kwargs\": {\n",
      "        \"column\": \"owner_s_business_name\"\n",
      "      },\n",
      "      \"meta\": {}\n",
      "    },\n",
      "    {\n",
      "      \"expectation_type\": \"expect_column_values_to_not_be_null\",\n",
      "      \"kwargs\": {\n",
      "        \"column\": \"owner_s_first_name\"\n",
      "      },\n",
      "      \"meta\": {}\n",
      "    },\n",
      "    {\n",
      "      \"expectation_type\": \"expect_column_values_to_not_be_null\",\n",
      "      \"kwargs\": {\n",
      "        \"column\": \"owner_s_last_name\"\n",
      "      },\n",
      "      \"meta\": {}\n",
      "    },\n",
      "    {\n",
      "      \"expectation_type\": \"expect_column_values_to_not_be_null\",\n",
      "      \"kwargs\": {\n",
      "        \"column\": \"owner_s_house__\"\n",
      "      },\n",
      "      \"meta\": {}\n",
      "    },\n",
      "    {\n",
      "      \"expectation_type\": \"expect_column_values_to_not_be_null\",\n",
      "      \"kwargs\": {\n",
      "        \"column\": \"owner_s_house_street_name\"\n",
      "      },\n",
      "      \"meta\": {}\n",
      "    },\n",
      "    {\n",
      "      \"expectation_type\": \"expect_column_values_to_not_be_null\",\n",
      "      \"kwargs\": {\n",
      "        \"column\": \"city\"\n",
      "      },\n",
      "      \"meta\": {}\n",
      "    },\n",
      "    {\n",
      "      \"expectation_type\": \"expect_column_values_to_not_be_null\",\n",
      "      \"kwargs\": {\n",
      "        \"column\": \"state\"\n",
      "      },\n",
      "      \"meta\": {}\n",
      "    },\n",
      "    {\n",
      "      \"expectation_type\": \"expect_column_values_to_not_be_null\",\n",
      "      \"kwargs\": {\n",
      "        \"column\": \"owner_s_zip_code\"\n",
      "      },\n",
      "      \"meta\": {}\n",
      "    },\n",
      "    {\n",
      "      \"expectation_type\": \"expect_column_values_to_not_be_null\",\n",
      "      \"kwargs\": {\n",
      "        \"column\": \"owner_s_phone__\"\n",
      "      },\n",
      "      \"meta\": {}\n",
      "    },\n",
      "    {\n",
      "      \"expectation_type\": \"expect_column_values_to_not_be_null\",\n",
      "      \"kwargs\": {\n",
      "        \"column\": \"dobrundate\"\n",
      "      },\n",
      "      \"meta\": {}\n",
      "    },\n",
      "    {\n",
      "      \"expectation_type\": \"expect_column_values_to_not_be_null\",\n",
      "      \"kwargs\": {\n",
      "        \"column\": \"permit_si_no\"\n",
      "      },\n",
      "      \"meta\": {}\n",
      "    },\n",
      "    {\n",
      "      \"expectation_type\": \"expect_column_values_to_not_be_null\",\n",
      "      \"kwargs\": {\n",
      "        \"column\": \"gis_latitude\"\n",
      "      },\n",
      "      \"meta\": {}\n",
      "    },\n",
      "    {\n",
      "      \"expectation_type\": \"expect_column_values_to_not_be_null\",\n",
      "      \"kwargs\": {\n",
      "        \"column\": \"gis_longitude\"\n",
      "      },\n",
      "      \"meta\": {}\n",
      "    },\n",
      "    {\n",
      "      \"expectation_type\": \"expect_column_values_to_not_be_null\",\n",
      "      \"kwargs\": {\n",
      "        \"column\": \"gis_council_district\"\n",
      "      },\n",
      "      \"meta\": {}\n",
      "    },\n",
      "    {\n",
      "      \"expectation_type\": \"expect_column_values_to_not_be_null\",\n",
      "      \"kwargs\": {\n",
      "        \"column\": \"gis_census_tract\"\n",
      "      },\n",
      "      \"meta\": {}\n",
      "    },\n",
      "    {\n",
      "      \"expectation_type\": \"expect_column_values_to_not_be_null\",\n",
      "      \"kwargs\": {\n",
      "        \"column\": \"gis_nta_name\"\n",
      "      },\n",
      "      \"meta\": {}\n",
      "    },\n",
      "    {\n",
      "      \"expectation_type\": \"expect_column_values_to_not_be_null\",\n",
      "      \"kwargs\": {\n",
      "        \"column\": \"house_id\"\n",
      "      },\n",
      "      \"meta\": {}\n",
      "    },\n",
      "    {\n",
      "      \"expectation_type\": \"expect_column_values_to_not_be_null\",\n",
      "      \"kwargs\": {\n",
      "        \"column\": \"location_id\"\n",
      "      },\n",
      "      \"meta\": {}\n",
      "    },\n",
      "    {\n",
      "      \"expectation_type\": \"expect_column_values_to_not_be_null\",\n",
      "      \"kwargs\": {\n",
      "        \"column\": \"owner_id\"\n",
      "      },\n",
      "      \"meta\": {}\n",
      "    },\n",
      "    {\n",
      "      \"expectation_type\": \"expect_column_values_to_be_in_set\",\n",
      "      \"kwargs\": {\n",
      "        \"column\": \"borough\",\n",
      "        \"value_set\": [\n",
      "          \"MANHATTAN\",\n",
      "          \"BRONX\",\n",
      "          \"QUEENS\",\n",
      "          \"BROOKLYN\",\n",
      "          \"STATEN ISLAND\"\n",
      "        ]\n",
      "      },\n",
      "      \"meta\": {}\n",
      "    },\n",
      "    {\n",
      "      \"expectation_type\": \"expect_column_values_to_be_in_set\",\n",
      "      \"kwargs\": {\n",
      "        \"column\": \"job_type\",\n",
      "        \"value_set\": [\n",
      "          \"A1\",\n",
      "          \"A2\",\n",
      "          \"A3\",\n",
      "          \"NB\",\n",
      "          \"DM\",\n",
      "          \"SG\"\n",
      "        ]\n",
      "      },\n",
      "      \"meta\": {}\n",
      "    },\n",
      "    {\n",
      "      \"expectation_type\": \"expect_column_values_to_be_in_set\",\n",
      "      \"kwargs\": {\n",
      "        \"column\": \"filing_status\",\n",
      "        \"value_set\": [\n",
      "          \"INITIAL\",\n",
      "          \"RENEWAL\"\n",
      "        ]\n",
      "      },\n",
      "      \"meta\": {}\n",
      "    },\n",
      "    {\n",
      "      \"expectation_type\": \"expect_column_values_to_be_in_set\",\n",
      "      \"kwargs\": {\n",
      "        \"column\": \"permit_status\",\n",
      "        \"value_set\": [\n",
      "          \"IN PROCESS\",\n",
      "          \"ISSUED\",\n",
      "          \"RE-ISSUED\",\n",
      "          \"REVOKED\"\n",
      "        ]\n",
      "      },\n",
      "      \"meta\": {}\n",
      "    },\n",
      "    {\n",
      "      \"expectation_type\": \"expect_column_values_to_be_in_set\",\n",
      "      \"kwargs\": {\n",
      "        \"column\": \"bldg_type\",\n",
      "        \"value_set\": [\n",
      "          1.0,\n",
      "          2.0\n",
      "        ]\n",
      "      },\n",
      "      \"meta\": {}\n",
      "    }\n",
      "  ],\n",
      "  \"meta\": {\n",
      "    \"citations\": [\n",
      "      {\n",
      "        \"batch_request\": {\n",
      "          \"data_asset_name\": \"small_clean.csv\",\n",
      "          \"data_connector_name\": \"default_inferred_data_connector_name\",\n",
      "          \"datasource_name\": \"small_clean\",\n",
      "          \"limit\": 1000\n",
      "        },\n",
      "        \"citation_date\": \"2023-04-21T04:38:45.825928Z\",\n",
      "        \"comment\": \"Created suite added via CLI\"\n",
      "      }\n",
      "    ],\n",
      "    \"great_expectations_version\": \"0.16.7\"\n",
      "  },\n",
      "  \"expectation_suite_name\": \"small_clean_suite\",\n",
      "  \"data_asset_type\": null\n",
      "}\n",
      "2023-04-21T00:39:39-0400 - INFO - \t68 expectation(s) included in expectation_suite.\n"
     ]
    },
    {
     "name": "stdout",
     "output_type": "stream",
     "text": [
      "2023-04-21T00:39:39-0400 - INFO - \t68 expectation(s) included in expectation_suite.\n"
     ]
    },
    {
     "data": {
      "application/vnd.jupyter.widget-view+json": {
       "model_id": "e624dff407404b6188c14e2e8b942a5a",
       "version_major": 2,
       "version_minor": 0
      },
      "text/plain": [
       "Calculating Metrics:   0%|          | 0/343 [00:00<?, ?it/s]"
      ]
     },
     "metadata": {},
     "output_type": "display_data"
    }
   ],
   "source": [
    "print(validator.get_expectation_suite(discard_failed_expectations=False))\n",
    "validator.save_expectation_suite(discard_failed_expectations=False)\n",
    "\n",
    "checkpoint_config = {\n",
    "    \"class_name\": \"SimpleCheckpoint\",\n",
    "    \"validations\": [\n",
    "        {\n",
    "            \"batch_request\": batch_request,\n",
    "            \"expectation_suite_name\": expectation_suite_name\n",
    "        }\n",
    "    ]\n",
    "}\n",
    "checkpoint = SimpleCheckpoint(\n",
    "    f\"{validator.active_batch_definition.data_asset_name}_{expectation_suite_name}\",\n",
    "    context,\n",
    "    **checkpoint_config\n",
    ")\n",
    "checkpoint_result = checkpoint.run()\n",
    "\n",
    "context.build_data_docs()\n",
    "\n",
    "validation_result_identifier = checkpoint_result.list_validation_result_identifiers()[0]\n",
    "context.open_data_docs(resource_identifier=validation_result_identifier)"
   ]
  },
  {
   "cell_type": "code",
   "execution_count": null,
   "id": "d4e08d99",
   "metadata": {},
   "outputs": [],
   "source": []
  }
 ],
 "metadata": {
  "kernelspec": {
   "display_name": "Python 3 (ipykernel)",
   "language": "python",
   "name": "python3"
  },
  "language_info": {
   "codemirror_mode": {
    "name": "ipython",
    "version": 3
   },
   "file_extension": ".py",
   "mimetype": "text/x-python",
   "name": "python",
   "nbconvert_exporter": "python",
   "pygments_lexer": "ipython3",
   "version": "3.10.6"
  }
 },
 "nbformat": 4,
 "nbformat_minor": 5
}
